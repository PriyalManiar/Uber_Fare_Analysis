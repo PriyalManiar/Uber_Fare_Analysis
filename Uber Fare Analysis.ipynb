{
  "cells": [
    {
      "cell_type": "code",
      "execution_count": null,
      "metadata": {
        "id": "mXxYbF2Igq4-"
      },
      "outputs": [],
      "source": [
        "import numpy as np\n",
        "import pandas as pd\n",
        "import seaborn as sns\n",
        "import matplotlib.pyplot as plt\n",
        "from sklearn.model_selection import train_test_split\n",
        "from sklearn.neighbors import DistanceMetric\n",
        "from math import radians"
      ]
    },
    {
      "cell_type": "code",
      "execution_count": null,
      "metadata": {
        "id": "QQqaG9yNhV91"
      },
      "outputs": [],
      "source": [
        "data = pd.read_csv('/content/uber.csv')"
      ]
    },
    {
      "cell_type": "code",
      "execution_count": null,
      "metadata": {
        "colab": {
          "base_uri": "https://localhost:8080/"
        },
        "id": "N8wkF1e8hWAY",
        "outputId": "44763fc6-5cfb-40bd-b007-fef00404ddf3"
      },
      "outputs": [
        {
          "output_type": "stream",
          "name": "stdout",
          "text": [
            "<class 'pandas.core.frame.DataFrame'>\n",
            "RangeIndex: 200000 entries, 0 to 199999\n",
            "Data columns (total 9 columns):\n",
            " #   Column             Non-Null Count   Dtype  \n",
            "---  ------             --------------   -----  \n",
            " 0   Unnamed: 0         200000 non-null  int64  \n",
            " 1   key                200000 non-null  object \n",
            " 2   fare_amount        200000 non-null  float64\n",
            " 3   pickup_datetime    200000 non-null  object \n",
            " 4   pickup_longitude   200000 non-null  float64\n",
            " 5   pickup_latitude    200000 non-null  float64\n",
            " 6   dropoff_longitude  199999 non-null  float64\n",
            " 7   dropoff_latitude   199999 non-null  float64\n",
            " 8   passenger_count    200000 non-null  int64  \n",
            "dtypes: float64(5), int64(2), object(2)\n",
            "memory usage: 13.7+ MB\n"
          ]
        }
      ],
      "source": [
        "data.info()"
      ]
    },
    {
      "cell_type": "code",
      "execution_count": null,
      "metadata": {
        "colab": {
          "base_uri": "https://localhost:8080/",
          "height": 374
        },
        "id": "NAEaB1XUhWC5",
        "outputId": "8d87a363-688d-4599-811a-45804e22e918"
      },
      "outputs": [
        {
          "output_type": "execute_result",
          "data": {
            "text/plain": [
              "   Unnamed: 0                            key  fare_amount  \\\n",
              "0    24238194    2015-05-07 19:52:06.0000003          7.5   \n",
              "1    27835199    2009-07-17 20:04:56.0000002          7.7   \n",
              "2    44984355   2009-08-24 21:45:00.00000061         12.9   \n",
              "3    25894730    2009-06-26 08:22:21.0000001          5.3   \n",
              "4    17610152  2014-08-28 17:47:00.000000188         16.0   \n",
              "\n",
              "           pickup_datetime  pickup_longitude  pickup_latitude  \\\n",
              "0  2015-05-07 19:52:06 UTC        -73.999817        40.738354   \n",
              "1  2009-07-17 20:04:56 UTC        -73.994355        40.728225   \n",
              "2  2009-08-24 21:45:00 UTC        -74.005043        40.740770   \n",
              "3  2009-06-26 08:22:21 UTC        -73.976124        40.790844   \n",
              "4  2014-08-28 17:47:00 UTC        -73.925023        40.744085   \n",
              "\n",
              "   dropoff_longitude  dropoff_latitude  passenger_count  \n",
              "0         -73.999512         40.723217                1  \n",
              "1         -73.994710         40.750325                1  \n",
              "2         -73.962565         40.772647                1  \n",
              "3         -73.965316         40.803349                3  \n",
              "4         -73.973082         40.761247                5  "
            ],
            "text/html": [
              "\n",
              "  <div id=\"df-cb0150b0-bb3d-4baf-a332-a28e0ceb0005\">\n",
              "    <div class=\"colab-df-container\">\n",
              "      <div>\n",
              "<style scoped>\n",
              "    .dataframe tbody tr th:only-of-type {\n",
              "        vertical-align: middle;\n",
              "    }\n",
              "\n",
              "    .dataframe tbody tr th {\n",
              "        vertical-align: top;\n",
              "    }\n",
              "\n",
              "    .dataframe thead th {\n",
              "        text-align: right;\n",
              "    }\n",
              "</style>\n",
              "<table border=\"1\" class=\"dataframe\">\n",
              "  <thead>\n",
              "    <tr style=\"text-align: right;\">\n",
              "      <th></th>\n",
              "      <th>Unnamed: 0</th>\n",
              "      <th>key</th>\n",
              "      <th>fare_amount</th>\n",
              "      <th>pickup_datetime</th>\n",
              "      <th>pickup_longitude</th>\n",
              "      <th>pickup_latitude</th>\n",
              "      <th>dropoff_longitude</th>\n",
              "      <th>dropoff_latitude</th>\n",
              "      <th>passenger_count</th>\n",
              "    </tr>\n",
              "  </thead>\n",
              "  <tbody>\n",
              "    <tr>\n",
              "      <th>0</th>\n",
              "      <td>24238194</td>\n",
              "      <td>2015-05-07 19:52:06.0000003</td>\n",
              "      <td>7.5</td>\n",
              "      <td>2015-05-07 19:52:06 UTC</td>\n",
              "      <td>-73.999817</td>\n",
              "      <td>40.738354</td>\n",
              "      <td>-73.999512</td>\n",
              "      <td>40.723217</td>\n",
              "      <td>1</td>\n",
              "    </tr>\n",
              "    <tr>\n",
              "      <th>1</th>\n",
              "      <td>27835199</td>\n",
              "      <td>2009-07-17 20:04:56.0000002</td>\n",
              "      <td>7.7</td>\n",
              "      <td>2009-07-17 20:04:56 UTC</td>\n",
              "      <td>-73.994355</td>\n",
              "      <td>40.728225</td>\n",
              "      <td>-73.994710</td>\n",
              "      <td>40.750325</td>\n",
              "      <td>1</td>\n",
              "    </tr>\n",
              "    <tr>\n",
              "      <th>2</th>\n",
              "      <td>44984355</td>\n",
              "      <td>2009-08-24 21:45:00.00000061</td>\n",
              "      <td>12.9</td>\n",
              "      <td>2009-08-24 21:45:00 UTC</td>\n",
              "      <td>-74.005043</td>\n",
              "      <td>40.740770</td>\n",
              "      <td>-73.962565</td>\n",
              "      <td>40.772647</td>\n",
              "      <td>1</td>\n",
              "    </tr>\n",
              "    <tr>\n",
              "      <th>3</th>\n",
              "      <td>25894730</td>\n",
              "      <td>2009-06-26 08:22:21.0000001</td>\n",
              "      <td>5.3</td>\n",
              "      <td>2009-06-26 08:22:21 UTC</td>\n",
              "      <td>-73.976124</td>\n",
              "      <td>40.790844</td>\n",
              "      <td>-73.965316</td>\n",
              "      <td>40.803349</td>\n",
              "      <td>3</td>\n",
              "    </tr>\n",
              "    <tr>\n",
              "      <th>4</th>\n",
              "      <td>17610152</td>\n",
              "      <td>2014-08-28 17:47:00.000000188</td>\n",
              "      <td>16.0</td>\n",
              "      <td>2014-08-28 17:47:00 UTC</td>\n",
              "      <td>-73.925023</td>\n",
              "      <td>40.744085</td>\n",
              "      <td>-73.973082</td>\n",
              "      <td>40.761247</td>\n",
              "      <td>5</td>\n",
              "    </tr>\n",
              "  </tbody>\n",
              "</table>\n",
              "</div>\n",
              "      <button class=\"colab-df-convert\" onclick=\"convertToInteractive('df-cb0150b0-bb3d-4baf-a332-a28e0ceb0005')\"\n",
              "              title=\"Convert this dataframe to an interactive table.\"\n",
              "              style=\"display:none;\">\n",
              "        \n",
              "  <svg xmlns=\"http://www.w3.org/2000/svg\" height=\"24px\"viewBox=\"0 0 24 24\"\n",
              "       width=\"24px\">\n",
              "    <path d=\"M0 0h24v24H0V0z\" fill=\"none\"/>\n",
              "    <path d=\"M18.56 5.44l.94 2.06.94-2.06 2.06-.94-2.06-.94-.94-2.06-.94 2.06-2.06.94zm-11 1L8.5 8.5l.94-2.06 2.06-.94-2.06-.94L8.5 2.5l-.94 2.06-2.06.94zm10 10l.94 2.06.94-2.06 2.06-.94-2.06-.94-.94-2.06-.94 2.06-2.06.94z\"/><path d=\"M17.41 7.96l-1.37-1.37c-.4-.4-.92-.59-1.43-.59-.52 0-1.04.2-1.43.59L10.3 9.45l-7.72 7.72c-.78.78-.78 2.05 0 2.83L4 21.41c.39.39.9.59 1.41.59.51 0 1.02-.2 1.41-.59l7.78-7.78 2.81-2.81c.8-.78.8-2.07 0-2.86zM5.41 20L4 18.59l7.72-7.72 1.47 1.35L5.41 20z\"/>\n",
              "  </svg>\n",
              "      </button>\n",
              "      \n",
              "  <style>\n",
              "    .colab-df-container {\n",
              "      display:flex;\n",
              "      flex-wrap:wrap;\n",
              "      gap: 12px;\n",
              "    }\n",
              "\n",
              "    .colab-df-convert {\n",
              "      background-color: #E8F0FE;\n",
              "      border: none;\n",
              "      border-radius: 50%;\n",
              "      cursor: pointer;\n",
              "      display: none;\n",
              "      fill: #1967D2;\n",
              "      height: 32px;\n",
              "      padding: 0 0 0 0;\n",
              "      width: 32px;\n",
              "    }\n",
              "\n",
              "    .colab-df-convert:hover {\n",
              "      background-color: #E2EBFA;\n",
              "      box-shadow: 0px 1px 2px rgba(60, 64, 67, 0.3), 0px 1px 3px 1px rgba(60, 64, 67, 0.15);\n",
              "      fill: #174EA6;\n",
              "    }\n",
              "\n",
              "    [theme=dark] .colab-df-convert {\n",
              "      background-color: #3B4455;\n",
              "      fill: #D2E3FC;\n",
              "    }\n",
              "\n",
              "    [theme=dark] .colab-df-convert:hover {\n",
              "      background-color: #434B5C;\n",
              "      box-shadow: 0px 1px 3px 1px rgba(0, 0, 0, 0.15);\n",
              "      filter: drop-shadow(0px 1px 2px rgba(0, 0, 0, 0.3));\n",
              "      fill: #FFFFFF;\n",
              "    }\n",
              "  </style>\n",
              "\n",
              "      <script>\n",
              "        const buttonEl =\n",
              "          document.querySelector('#df-cb0150b0-bb3d-4baf-a332-a28e0ceb0005 button.colab-df-convert');\n",
              "        buttonEl.style.display =\n",
              "          google.colab.kernel.accessAllowed ? 'block' : 'none';\n",
              "\n",
              "        async function convertToInteractive(key) {\n",
              "          const element = document.querySelector('#df-cb0150b0-bb3d-4baf-a332-a28e0ceb0005');\n",
              "          const dataTable =\n",
              "            await google.colab.kernel.invokeFunction('convertToInteractive',\n",
              "                                                     [key], {});\n",
              "          if (!dataTable) return;\n",
              "\n",
              "          const docLinkHtml = 'Like what you see? Visit the ' +\n",
              "            '<a target=\"_blank\" href=https://colab.research.google.com/notebooks/data_table.ipynb>data table notebook</a>'\n",
              "            + ' to learn more about interactive tables.';\n",
              "          element.innerHTML = '';\n",
              "          dataTable['output_type'] = 'display_data';\n",
              "          await google.colab.output.renderOutput(dataTable, element);\n",
              "          const docLink = document.createElement('div');\n",
              "          docLink.innerHTML = docLinkHtml;\n",
              "          element.appendChild(docLink);\n",
              "        }\n",
              "      </script>\n",
              "    </div>\n",
              "  </div>\n",
              "  "
            ]
          },
          "metadata": {},
          "execution_count": 185
        }
      ],
      "source": [
        "data.head()"
      ]
    },
    {
      "cell_type": "code",
      "execution_count": null,
      "metadata": {
        "colab": {
          "base_uri": "https://localhost:8080/"
        },
        "id": "MbQJkKm5hWFc",
        "outputId": "38344b76-2fd9-46c5-92d5-f3b962ce2302"
      },
      "outputs": [
        {
          "output_type": "execute_result",
          "data": {
            "text/plain": [
              "Unnamed: 0           200000\n",
              "key                  200000\n",
              "fare_amount            1244\n",
              "pickup_datetime      196629\n",
              "pickup_longitude      71066\n",
              "pickup_latitude       83835\n",
              "dropoff_longitude     76894\n",
              "dropoff_latitude      90585\n",
              "passenger_count           8\n",
              "dtype: int64"
            ]
          },
          "metadata": {},
          "execution_count": 186
        }
      ],
      "source": [
        "data.nunique()"
      ]
    },
    {
      "cell_type": "code",
      "execution_count": null,
      "metadata": {
        "id": "kg1H_ygOhWH3"
      },
      "outputs": [],
      "source": [
        "#  Dropping the columns 'Unnamed: 0' and 'key' as well as NA rows\n",
        "\n",
        "data = data.drop(['Unnamed: 0','key'],axis=1)\n",
        "data.dropna(axis=0,inplace=True)"
      ]
    },
    {
      "cell_type": "code",
      "execution_count": null,
      "metadata": {
        "colab": {
          "base_uri": "https://localhost:8080/",
          "height": 237
        },
        "id": "ItcYJ88dhWKP",
        "outputId": "38d174d7-2e19-44ea-bc6a-001ca01acb23"
      },
      "outputs": [
        {
          "output_type": "execute_result",
          "data": {
            "text/plain": [
              "                      count       mean        std          min        25%  \\\n",
              "fare_amount        199999.0  11.359892   9.901760   -52.000000   6.000000   \n",
              "pickup_longitude   199999.0 -72.527631  11.437815 -1340.648410 -73.992065   \n",
              "pickup_latitude    199999.0  39.935881   7.720558   -74.015515  40.734796   \n",
              "dropoff_longitude  199999.0 -72.525292  13.117408 -3356.666300 -73.991407   \n",
              "dropoff_latitude   199999.0  39.923890   6.794829  -881.985513  40.733823   \n",
              "passenger_count    199999.0   1.684543   1.385995     0.000000   1.000000   \n",
              "\n",
              "                         50%        75%          max  \n",
              "fare_amount         8.500000  12.500000   499.000000  \n",
              "pickup_longitude  -73.981823 -73.967154    57.418457  \n",
              "pickup_latitude    40.752592  40.767158  1644.421482  \n",
              "dropoff_longitude -73.980093 -73.963658  1153.572603  \n",
              "dropoff_latitude   40.753042  40.768001   872.697628  \n",
              "passenger_count     1.000000   2.000000   208.000000  "
            ],
            "text/html": [
              "\n",
              "  <div id=\"df-4ea54fcb-5501-4946-bc92-cdca5a6cebe3\">\n",
              "    <div class=\"colab-df-container\">\n",
              "      <div>\n",
              "<style scoped>\n",
              "    .dataframe tbody tr th:only-of-type {\n",
              "        vertical-align: middle;\n",
              "    }\n",
              "\n",
              "    .dataframe tbody tr th {\n",
              "        vertical-align: top;\n",
              "    }\n",
              "\n",
              "    .dataframe thead th {\n",
              "        text-align: right;\n",
              "    }\n",
              "</style>\n",
              "<table border=\"1\" class=\"dataframe\">\n",
              "  <thead>\n",
              "    <tr style=\"text-align: right;\">\n",
              "      <th></th>\n",
              "      <th>count</th>\n",
              "      <th>mean</th>\n",
              "      <th>std</th>\n",
              "      <th>min</th>\n",
              "      <th>25%</th>\n",
              "      <th>50%</th>\n",
              "      <th>75%</th>\n",
              "      <th>max</th>\n",
              "    </tr>\n",
              "  </thead>\n",
              "  <tbody>\n",
              "    <tr>\n",
              "      <th>fare_amount</th>\n",
              "      <td>199999.0</td>\n",
              "      <td>11.359892</td>\n",
              "      <td>9.901760</td>\n",
              "      <td>-52.000000</td>\n",
              "      <td>6.000000</td>\n",
              "      <td>8.500000</td>\n",
              "      <td>12.500000</td>\n",
              "      <td>499.000000</td>\n",
              "    </tr>\n",
              "    <tr>\n",
              "      <th>pickup_longitude</th>\n",
              "      <td>199999.0</td>\n",
              "      <td>-72.527631</td>\n",
              "      <td>11.437815</td>\n",
              "      <td>-1340.648410</td>\n",
              "      <td>-73.992065</td>\n",
              "      <td>-73.981823</td>\n",
              "      <td>-73.967154</td>\n",
              "      <td>57.418457</td>\n",
              "    </tr>\n",
              "    <tr>\n",
              "      <th>pickup_latitude</th>\n",
              "      <td>199999.0</td>\n",
              "      <td>39.935881</td>\n",
              "      <td>7.720558</td>\n",
              "      <td>-74.015515</td>\n",
              "      <td>40.734796</td>\n",
              "      <td>40.752592</td>\n",
              "      <td>40.767158</td>\n",
              "      <td>1644.421482</td>\n",
              "    </tr>\n",
              "    <tr>\n",
              "      <th>dropoff_longitude</th>\n",
              "      <td>199999.0</td>\n",
              "      <td>-72.525292</td>\n",
              "      <td>13.117408</td>\n",
              "      <td>-3356.666300</td>\n",
              "      <td>-73.991407</td>\n",
              "      <td>-73.980093</td>\n",
              "      <td>-73.963658</td>\n",
              "      <td>1153.572603</td>\n",
              "    </tr>\n",
              "    <tr>\n",
              "      <th>dropoff_latitude</th>\n",
              "      <td>199999.0</td>\n",
              "      <td>39.923890</td>\n",
              "      <td>6.794829</td>\n",
              "      <td>-881.985513</td>\n",
              "      <td>40.733823</td>\n",
              "      <td>40.753042</td>\n",
              "      <td>40.768001</td>\n",
              "      <td>872.697628</td>\n",
              "    </tr>\n",
              "    <tr>\n",
              "      <th>passenger_count</th>\n",
              "      <td>199999.0</td>\n",
              "      <td>1.684543</td>\n",
              "      <td>1.385995</td>\n",
              "      <td>0.000000</td>\n",
              "      <td>1.000000</td>\n",
              "      <td>1.000000</td>\n",
              "      <td>2.000000</td>\n",
              "      <td>208.000000</td>\n",
              "    </tr>\n",
              "  </tbody>\n",
              "</table>\n",
              "</div>\n",
              "      <button class=\"colab-df-convert\" onclick=\"convertToInteractive('df-4ea54fcb-5501-4946-bc92-cdca5a6cebe3')\"\n",
              "              title=\"Convert this dataframe to an interactive table.\"\n",
              "              style=\"display:none;\">\n",
              "        \n",
              "  <svg xmlns=\"http://www.w3.org/2000/svg\" height=\"24px\"viewBox=\"0 0 24 24\"\n",
              "       width=\"24px\">\n",
              "    <path d=\"M0 0h24v24H0V0z\" fill=\"none\"/>\n",
              "    <path d=\"M18.56 5.44l.94 2.06.94-2.06 2.06-.94-2.06-.94-.94-2.06-.94 2.06-2.06.94zm-11 1L8.5 8.5l.94-2.06 2.06-.94-2.06-.94L8.5 2.5l-.94 2.06-2.06.94zm10 10l.94 2.06.94-2.06 2.06-.94-2.06-.94-.94-2.06-.94 2.06-2.06.94z\"/><path d=\"M17.41 7.96l-1.37-1.37c-.4-.4-.92-.59-1.43-.59-.52 0-1.04.2-1.43.59L10.3 9.45l-7.72 7.72c-.78.78-.78 2.05 0 2.83L4 21.41c.39.39.9.59 1.41.59.51 0 1.02-.2 1.41-.59l7.78-7.78 2.81-2.81c.8-.78.8-2.07 0-2.86zM5.41 20L4 18.59l7.72-7.72 1.47 1.35L5.41 20z\"/>\n",
              "  </svg>\n",
              "      </button>\n",
              "      \n",
              "  <style>\n",
              "    .colab-df-container {\n",
              "      display:flex;\n",
              "      flex-wrap:wrap;\n",
              "      gap: 12px;\n",
              "    }\n",
              "\n",
              "    .colab-df-convert {\n",
              "      background-color: #E8F0FE;\n",
              "      border: none;\n",
              "      border-radius: 50%;\n",
              "      cursor: pointer;\n",
              "      display: none;\n",
              "      fill: #1967D2;\n",
              "      height: 32px;\n",
              "      padding: 0 0 0 0;\n",
              "      width: 32px;\n",
              "    }\n",
              "\n",
              "    .colab-df-convert:hover {\n",
              "      background-color: #E2EBFA;\n",
              "      box-shadow: 0px 1px 2px rgba(60, 64, 67, 0.3), 0px 1px 3px 1px rgba(60, 64, 67, 0.15);\n",
              "      fill: #174EA6;\n",
              "    }\n",
              "\n",
              "    [theme=dark] .colab-df-convert {\n",
              "      background-color: #3B4455;\n",
              "      fill: #D2E3FC;\n",
              "    }\n",
              "\n",
              "    [theme=dark] .colab-df-convert:hover {\n",
              "      background-color: #434B5C;\n",
              "      box-shadow: 0px 1px 3px 1px rgba(0, 0, 0, 0.15);\n",
              "      filter: drop-shadow(0px 1px 2px rgba(0, 0, 0, 0.3));\n",
              "      fill: #FFFFFF;\n",
              "    }\n",
              "  </style>\n",
              "\n",
              "      <script>\n",
              "        const buttonEl =\n",
              "          document.querySelector('#df-4ea54fcb-5501-4946-bc92-cdca5a6cebe3 button.colab-df-convert');\n",
              "        buttonEl.style.display =\n",
              "          google.colab.kernel.accessAllowed ? 'block' : 'none';\n",
              "\n",
              "        async function convertToInteractive(key) {\n",
              "          const element = document.querySelector('#df-4ea54fcb-5501-4946-bc92-cdca5a6cebe3');\n",
              "          const dataTable =\n",
              "            await google.colab.kernel.invokeFunction('convertToInteractive',\n",
              "                                                     [key], {});\n",
              "          if (!dataTable) return;\n",
              "\n",
              "          const docLinkHtml = 'Like what you see? Visit the ' +\n",
              "            '<a target=\"_blank\" href=https://colab.research.google.com/notebooks/data_table.ipynb>data table notebook</a>'\n",
              "            + ' to learn more about interactive tables.';\n",
              "          element.innerHTML = '';\n",
              "          dataTable['output_type'] = 'display_data';\n",
              "          await google.colab.output.renderOutput(dataTable, element);\n",
              "          const docLink = document.createElement('div');\n",
              "          docLink.innerHTML = docLinkHtml;\n",
              "          element.appendChild(docLink);\n",
              "        }\n",
              "      </script>\n",
              "    </div>\n",
              "  </div>\n",
              "  "
            ]
          },
          "metadata": {},
          "execution_count": 188
        }
      ],
      "source": [
        "data.describe().T"
      ]
    },
    {
      "cell_type": "code",
      "execution_count": null,
      "metadata": {
        "colab": {
          "base_uri": "https://localhost:8080/",
          "height": 237
        },
        "id": "4eIGFp0FhWM0",
        "outputId": "15504500-f86b-4f7b-a8ac-6313c7a56c22"
      },
      "outputs": [
        {
          "output_type": "execute_result",
          "data": {
            "text/plain": [
              "                   fare_amount  pickup_longitude  pickup_latitude  \\\n",
              "fare_amount           1.000000          0.010458        -0.008482   \n",
              "pickup_longitude      0.010458          1.000000        -0.816461   \n",
              "pickup_latitude      -0.008482         -0.816461         1.000000   \n",
              "dropoff_longitude     0.008986          0.833026        -0.774787   \n",
              "dropoff_latitude     -0.011014         -0.846324         0.702367   \n",
              "passenger_count       0.010158         -0.000415        -0.001559   \n",
              "\n",
              "                   dropoff_longitude  dropoff_latitude  passenger_count  \n",
              "fare_amount                 0.008986         -0.011014         0.010158  \n",
              "pickup_longitude            0.833026         -0.846324        -0.000415  \n",
              "pickup_latitude            -0.774787          0.702367        -0.001559  \n",
              "dropoff_longitude           1.000000         -0.917010         0.000033  \n",
              "dropoff_latitude           -0.917010          1.000000        -0.000659  \n",
              "passenger_count             0.000033         -0.000659         1.000000  "
            ],
            "text/html": [
              "\n",
              "  <div id=\"df-6f49d55a-6edd-4538-9a66-e0e9a13d3570\">\n",
              "    <div class=\"colab-df-container\">\n",
              "      <div>\n",
              "<style scoped>\n",
              "    .dataframe tbody tr th:only-of-type {\n",
              "        vertical-align: middle;\n",
              "    }\n",
              "\n",
              "    .dataframe tbody tr th {\n",
              "        vertical-align: top;\n",
              "    }\n",
              "\n",
              "    .dataframe thead th {\n",
              "        text-align: right;\n",
              "    }\n",
              "</style>\n",
              "<table border=\"1\" class=\"dataframe\">\n",
              "  <thead>\n",
              "    <tr style=\"text-align: right;\">\n",
              "      <th></th>\n",
              "      <th>fare_amount</th>\n",
              "      <th>pickup_longitude</th>\n",
              "      <th>pickup_latitude</th>\n",
              "      <th>dropoff_longitude</th>\n",
              "      <th>dropoff_latitude</th>\n",
              "      <th>passenger_count</th>\n",
              "    </tr>\n",
              "  </thead>\n",
              "  <tbody>\n",
              "    <tr>\n",
              "      <th>fare_amount</th>\n",
              "      <td>1.000000</td>\n",
              "      <td>0.010458</td>\n",
              "      <td>-0.008482</td>\n",
              "      <td>0.008986</td>\n",
              "      <td>-0.011014</td>\n",
              "      <td>0.010158</td>\n",
              "    </tr>\n",
              "    <tr>\n",
              "      <th>pickup_longitude</th>\n",
              "      <td>0.010458</td>\n",
              "      <td>1.000000</td>\n",
              "      <td>-0.816461</td>\n",
              "      <td>0.833026</td>\n",
              "      <td>-0.846324</td>\n",
              "      <td>-0.000415</td>\n",
              "    </tr>\n",
              "    <tr>\n",
              "      <th>pickup_latitude</th>\n",
              "      <td>-0.008482</td>\n",
              "      <td>-0.816461</td>\n",
              "      <td>1.000000</td>\n",
              "      <td>-0.774787</td>\n",
              "      <td>0.702367</td>\n",
              "      <td>-0.001559</td>\n",
              "    </tr>\n",
              "    <tr>\n",
              "      <th>dropoff_longitude</th>\n",
              "      <td>0.008986</td>\n",
              "      <td>0.833026</td>\n",
              "      <td>-0.774787</td>\n",
              "      <td>1.000000</td>\n",
              "      <td>-0.917010</td>\n",
              "      <td>0.000033</td>\n",
              "    </tr>\n",
              "    <tr>\n",
              "      <th>dropoff_latitude</th>\n",
              "      <td>-0.011014</td>\n",
              "      <td>-0.846324</td>\n",
              "      <td>0.702367</td>\n",
              "      <td>-0.917010</td>\n",
              "      <td>1.000000</td>\n",
              "      <td>-0.000659</td>\n",
              "    </tr>\n",
              "    <tr>\n",
              "      <th>passenger_count</th>\n",
              "      <td>0.010158</td>\n",
              "      <td>-0.000415</td>\n",
              "      <td>-0.001559</td>\n",
              "      <td>0.000033</td>\n",
              "      <td>-0.000659</td>\n",
              "      <td>1.000000</td>\n",
              "    </tr>\n",
              "  </tbody>\n",
              "</table>\n",
              "</div>\n",
              "      <button class=\"colab-df-convert\" onclick=\"convertToInteractive('df-6f49d55a-6edd-4538-9a66-e0e9a13d3570')\"\n",
              "              title=\"Convert this dataframe to an interactive table.\"\n",
              "              style=\"display:none;\">\n",
              "        \n",
              "  <svg xmlns=\"http://www.w3.org/2000/svg\" height=\"24px\"viewBox=\"0 0 24 24\"\n",
              "       width=\"24px\">\n",
              "    <path d=\"M0 0h24v24H0V0z\" fill=\"none\"/>\n",
              "    <path d=\"M18.56 5.44l.94 2.06.94-2.06 2.06-.94-2.06-.94-.94-2.06-.94 2.06-2.06.94zm-11 1L8.5 8.5l.94-2.06 2.06-.94-2.06-.94L8.5 2.5l-.94 2.06-2.06.94zm10 10l.94 2.06.94-2.06 2.06-.94-2.06-.94-.94-2.06-.94 2.06-2.06.94z\"/><path d=\"M17.41 7.96l-1.37-1.37c-.4-.4-.92-.59-1.43-.59-.52 0-1.04.2-1.43.59L10.3 9.45l-7.72 7.72c-.78.78-.78 2.05 0 2.83L4 21.41c.39.39.9.59 1.41.59.51 0 1.02-.2 1.41-.59l7.78-7.78 2.81-2.81c.8-.78.8-2.07 0-2.86zM5.41 20L4 18.59l7.72-7.72 1.47 1.35L5.41 20z\"/>\n",
              "  </svg>\n",
              "      </button>\n",
              "      \n",
              "  <style>\n",
              "    .colab-df-container {\n",
              "      display:flex;\n",
              "      flex-wrap:wrap;\n",
              "      gap: 12px;\n",
              "    }\n",
              "\n",
              "    .colab-df-convert {\n",
              "      background-color: #E8F0FE;\n",
              "      border: none;\n",
              "      border-radius: 50%;\n",
              "      cursor: pointer;\n",
              "      display: none;\n",
              "      fill: #1967D2;\n",
              "      height: 32px;\n",
              "      padding: 0 0 0 0;\n",
              "      width: 32px;\n",
              "    }\n",
              "\n",
              "    .colab-df-convert:hover {\n",
              "      background-color: #E2EBFA;\n",
              "      box-shadow: 0px 1px 2px rgba(60, 64, 67, 0.3), 0px 1px 3px 1px rgba(60, 64, 67, 0.15);\n",
              "      fill: #174EA6;\n",
              "    }\n",
              "\n",
              "    [theme=dark] .colab-df-convert {\n",
              "      background-color: #3B4455;\n",
              "      fill: #D2E3FC;\n",
              "    }\n",
              "\n",
              "    [theme=dark] .colab-df-convert:hover {\n",
              "      background-color: #434B5C;\n",
              "      box-shadow: 0px 1px 3px 1px rgba(0, 0, 0, 0.15);\n",
              "      filter: drop-shadow(0px 1px 2px rgba(0, 0, 0, 0.3));\n",
              "      fill: #FFFFFF;\n",
              "    }\n",
              "  </style>\n",
              "\n",
              "      <script>\n",
              "        const buttonEl =\n",
              "          document.querySelector('#df-6f49d55a-6edd-4538-9a66-e0e9a13d3570 button.colab-df-convert');\n",
              "        buttonEl.style.display =\n",
              "          google.colab.kernel.accessAllowed ? 'block' : 'none';\n",
              "\n",
              "        async function convertToInteractive(key) {\n",
              "          const element = document.querySelector('#df-6f49d55a-6edd-4538-9a66-e0e9a13d3570');\n",
              "          const dataTable =\n",
              "            await google.colab.kernel.invokeFunction('convertToInteractive',\n",
              "                                                     [key], {});\n",
              "          if (!dataTable) return;\n",
              "\n",
              "          const docLinkHtml = 'Like what you see? Visit the ' +\n",
              "            '<a target=\"_blank\" href=https://colab.research.google.com/notebooks/data_table.ipynb>data table notebook</a>'\n",
              "            + ' to learn more about interactive tables.';\n",
              "          element.innerHTML = '';\n",
              "          dataTable['output_type'] = 'display_data';\n",
              "          await google.colab.output.renderOutput(dataTable, element);\n",
              "          const docLink = document.createElement('div');\n",
              "          docLink.innerHTML = docLinkHtml;\n",
              "          element.appendChild(docLink);\n",
              "        }\n",
              "      </script>\n",
              "    </div>\n",
              "  </div>\n",
              "  "
            ]
          },
          "metadata": {},
          "execution_count": 189
        }
      ],
      "source": [
        "data.corr()"
      ]
    },
    {
      "cell_type": "markdown",
      "source": [
        "Inference :\n",
        "\n",
        "Possibility of some outliers in fare amount and passanger\n",
        "\n",
        "Outliers:\n",
        "Fare Amount is between -52 to 499. The negative amount seems unrealistic.\n",
        "\n",
        "Base fare to be set at $2.5\n",
        "\n",
        "Passanger count max is 208, which is also not possible.\n",
        "Max to be set at 5\n"
      ],
      "metadata": {
        "id": "HOivm82v4or-"
      }
    },
    {
      "cell_type": "code",
      "execution_count": null,
      "metadata": {
        "colab": {
          "base_uri": "https://localhost:8080/",
          "height": 576
        },
        "id": "54mGotJmhWPG",
        "outputId": "39ab9b37-a98e-4a14-b42a-7da75b7435ae"
      },
      "outputs": [
        {
          "output_type": "execute_result",
          "data": {
            "text/plain": [
              "<Axes: >"
            ]
          },
          "metadata": {},
          "execution_count": 190
        },
        {
          "output_type": "display_data",
          "data": {
            "text/plain": [
              "<Figure size 1000x500 with 2 Axes>"
            ],
            "image/png": "[encoded data removed]"
          },
          "metadata": {}
        }
      ],
      "source": [
        "plt.figure(figsize=(10,5))\n",
        "sns.heatmap(data.corr(), annot=True, linewidths=.5, vmin = -1, vmax = 1, fmt = '.2g')"
      ]
    },
    {
      "cell_type": "markdown",
      "source": [
        "High correlation can be observed between the geo-spatial data points.\n",
        "\n",
        "We use this points to calculate the Distance travelled_in_km\n",
        "\n",
        "Haversine Distance haversine formula to calculate the distance traveled in km (using pickup and drop off latitude and longitude).\n",
        "\n",
        "d = 2r * arcsin(√(sin²(Δlat/2) + cos(lat1) * cos(lat2) * sin²(Δlon/2)))\n",
        "\n"
      ],
      "metadata": {
        "id": "pA0c5zmX5FsG"
      }
    },
    {
      "cell_type": "code",
      "execution_count": null,
      "metadata": {
        "id": "x60hkSRGhWR2"
      },
      "outputs": [],
      "source": [
        "from math import *\n",
        "def distance(longitude1, latitude1, longitude2, latitude2):\n",
        "    travel_dist = []\n",
        "\n",
        "    for pos in range(len(longitude1)):\n",
        "        long1,lati1,long2,lati2 = map(radians,[longitude1[pos],latitude1[pos],longitude2[pos],latitude2[pos]])\n",
        "        dist_long = long2 - long1\n",
        "        dist_lati = lati2 - lati1\n",
        "        a = sin(dist_lati/2)**2 + cos(lati1) * cos(lati2) * sin(dist_long/2)**2\n",
        "        c = 2 * asin(sqrt(a))*6371\n",
        "        travel_dist.append(c)\n",
        "\n",
        "    return travel_dist"
      ]
    },
    {
      "cell_type": "code",
      "execution_count": null,
      "metadata": {
        "id": "NRFuL5pHhWUN"
      },
      "outputs": [],
      "source": [
        "data['distance_travelled'] = distance(data['pickup_longitude'].to_numpy(),\n",
        "                                                data['pickup_latitude'].to_numpy(),\n",
        "                                                data['dropoff_longitude'].to_numpy(),\n",
        "                                                data['dropoff_latitude'].to_numpy()\n",
        "                                              )"
      ]
    },
    {
      "cell_type": "code",
      "execution_count": null,
      "metadata": {
        "colab": {
          "base_uri": "https://localhost:8080/"
        },
        "id": "6IaFRU5ShWWx",
        "outputId": "2f648d8e-05b0-47a0-fa3a-479f8bc16aa9"
      },
      "outputs": [
        {
          "output_type": "stream",
          "name": "stdout",
          "text": [
            "<class 'pandas.core.frame.DataFrame'>\n",
            "Int64Index: 199999 entries, 0 to 199999\n",
            "Data columns (total 8 columns):\n",
            " #   Column              Non-Null Count   Dtype  \n",
            "---  ------              --------------   -----  \n",
            " 0   fare_amount         199999 non-null  float64\n",
            " 1   pickup_datetime     199999 non-null  object \n",
            " 2   pickup_longitude    199999 non-null  float64\n",
            " 3   pickup_latitude     199999 non-null  float64\n",
            " 4   dropoff_longitude   199999 non-null  float64\n",
            " 5   dropoff_latitude    199999 non-null  float64\n",
            " 6   passenger_count     199999 non-null  int64  \n",
            " 7   distance_travelled  199999 non-null  float64\n",
            "dtypes: float64(6), int64(1), object(1)\n",
            "memory usage: 13.7+ MB\n"
          ]
        }
      ],
      "source": [
        "data.info()"
      ]
    },
    {
      "cell_type": "code",
      "execution_count": null,
      "metadata": {
        "id": "-_HwuJS9hWZJ"
      },
      "outputs": [],
      "source": [
        "data['pickup_datetime']  = pd.to_datetime(data['pickup_datetime'])"
      ]
    },
    {
      "cell_type": "code",
      "execution_count": null,
      "metadata": {
        "id": "rkNxLq6HhWch",
        "colab": {
          "base_uri": "https://localhost:8080/"
        },
        "outputId": "1c493ef6-5882-4cce-8e2d-f59322239714"
      },
      "outputs": [
        {
          "output_type": "execute_result",
          "data": {
            "text/plain": [
              "fare_amount                       float64\n",
              "pickup_datetime       datetime64[ns, UTC]\n",
              "pickup_longitude                  float64\n",
              "pickup_latitude                   float64\n",
              "dropoff_longitude                 float64\n",
              "dropoff_latitude                  float64\n",
              "passenger_count                     int64\n",
              "distance_travelled                float64\n",
              "dtype: object"
            ]
          },
          "metadata": {},
          "execution_count": 195
        }
      ],
      "source": [
        "data.dtypes"
      ]
    },
    {
      "cell_type": "code",
      "execution_count": null,
      "metadata": {
        "id": "mJApBoZXjTQs"
      },
      "outputs": [],
      "source": [
        "from datetime import datetime\n",
        "\n",
        "data['date'] = pd.to_datetime(data['pickup_datetime']).dt.date\n",
        "data['month'] = pd.to_datetime(data['pickup_datetime']).dt.month\n",
        "data['year'] = pd.to_datetime(data['pickup_datetime']).dt.year\n",
        "data['day_of_the_week'] = pd.to_datetime(data['pickup_datetime']).dt.weekday\n",
        "data['day_name'] = pd.to_datetime(data['pickup_datetime']).dt.day_name()\n",
        "data['pickup_time'] = pd.to_datetime(data['pickup_datetime']).dt.time\n",
        "data['pickup_hour'] = pd.to_datetime(data['pickup_datetime']).dt.hour"
      ]
    },
    {
      "cell_type": "code",
      "execution_count": null,
      "metadata": {
        "id": "FbRPhGvljZeY",
        "colab": {
          "base_uri": "https://localhost:8080/"
        },
        "outputId": "46431830-9a2a-4af8-f95a-371327a31660"
      },
      "outputs": [
        {
          "output_type": "stream",
          "name": "stdout",
          "text": [
            "<class 'pandas.core.frame.DataFrame'>\n",
            "Int64Index: 199999 entries, 0 to 199999\n",
            "Data columns (total 15 columns):\n",
            " #   Column              Non-Null Count   Dtype              \n",
            "---  ------              --------------   -----              \n",
            " 0   fare_amount         199999 non-null  float64            \n",
            " 1   pickup_datetime     199999 non-null  datetime64[ns, UTC]\n",
            " 2   pickup_longitude    199999 non-null  float64            \n",
            " 3   pickup_latitude     199999 non-null  float64            \n",
            " 4   dropoff_longitude   199999 non-null  float64            \n",
            " 5   dropoff_latitude    199999 non-null  float64            \n",
            " 6   passenger_count     199999 non-null  int64              \n",
            " 7   distance_travelled  199999 non-null  float64            \n",
            " 8   date                199999 non-null  object             \n",
            " 9   month               199999 non-null  int64              \n",
            " 10  year                199999 non-null  int64              \n",
            " 11  day_of_the_week     199999 non-null  int64              \n",
            " 12  day_name            199999 non-null  object             \n",
            " 13  pickup_time         199999 non-null  object             \n",
            " 14  pickup_hour         199999 non-null  int64              \n",
            "dtypes: datetime64[ns, UTC](1), float64(6), int64(5), object(3)\n",
            "memory usage: 24.4+ MB\n"
          ]
        }
      ],
      "source": [
        "data.info()"
      ]
    },
    {
      "cell_type": "code",
      "execution_count": null,
      "metadata": {
        "id": "D-umyyeCjZgw"
      },
      "outputs": [],
      "source": [
        "data.drop(data[data['passenger_count'] > 5].index, axis=0, inplace = True)\n",
        "data.drop(data[data['passenger_count'] == 0].index, axis=0, inplace = True)\n",
        "data.drop(data[data['fare_amount'] < 2.5].index, axis=0, inplace = True)\n",
        "data.drop(data[data['distance_travelled'] > 130].index, axis=0, inplace = True)\n",
        "data.drop(data[data['distance_travelled'] == 0].index, axis=0, inplace = True)\n",
        "data.dropna(axis=0,inplace=True)"
      ]
    },
    {
      "cell_type": "code",
      "execution_count": null,
      "metadata": {
        "id": "tdUHq3JpjZjI",
        "colab": {
          "base_uri": "https://localhost:8080/",
          "height": 394
        },
        "outputId": "25732e67-6531-41ff-ee6a-179fd6997a54"
      },
      "outputs": [
        {
          "output_type": "execute_result",
          "data": {
            "text/plain": [
              "                       count         mean       std          min          25%  \\\n",
              "fare_amount         189061.0    11.336739  9.730745     2.500000     6.000000   \n",
              "pickup_longitude    189061.0   -73.916225  2.560946   -75.419276   -73.992274   \n",
              "pickup_latitude     189061.0    40.696089  2.634751   -74.015515    40.736440   \n",
              "dropoff_longitude   189061.0   -73.915258  2.561027   -75.423067   -73.991594   \n",
              "dropoff_latitude    189061.0    40.694481  2.501323   -74.015750    40.735345   \n",
              "passenger_count     189061.0     1.595115  1.150926     1.000000     1.000000   \n",
              "distance_travelled  189061.0     3.377859  3.984585     0.000084     1.279954   \n",
              "month               189061.0     6.282337  3.439349     1.000000     3.000000   \n",
              "year                189061.0  2011.719302  1.862527  2009.000000  2010.000000   \n",
              "day_of_the_week     189061.0     3.049095  1.946679     0.000000     1.000000   \n",
              "pickup_hour         189061.0    13.489234  6.518660     0.000000     9.000000   \n",
              "\n",
              "                            50%          75%          max  \n",
              "fare_amount            8.500000    12.500000   499.000000  \n",
              "pickup_longitude     -73.982133   -73.968465    40.808425  \n",
              "pickup_latitude       40.753273    40.767532   401.066667  \n",
              "dropoff_longitude    -73.980564   -73.965513    40.831932  \n",
              "dropoff_latitude      40.753738    40.768327    45.031598  \n",
              "passenger_count        1.000000     2.000000     5.000000  \n",
              "distance_travelled     2.181325     3.938054   129.610094  \n",
              "month                  6.000000     9.000000    12.000000  \n",
              "year                2012.000000  2013.000000  2015.000000  \n",
              "day_of_the_week        3.000000     5.000000     6.000000  \n",
              "pickup_hour           14.000000    19.000000    23.000000  "
            ],
            "text/html": [
              "\n",
              "  <div id=\"df-28fe8202-87c1-4d6a-beec-ab1d7fab67ce\">\n",
              "    <div class=\"colab-df-container\">\n",
              "      <div>\n",
              "<style scoped>\n",
              "    .dataframe tbody tr th:only-of-type {\n",
              "        vertical-align: middle;\n",
              "    }\n",
              "\n",
              "    .dataframe tbody tr th {\n",
              "        vertical-align: top;\n",
              "    }\n",
              "\n",
              "    .dataframe thead th {\n",
              "        text-align: right;\n",
              "    }\n",
              "</style>\n",
              "<table border=\"1\" class=\"dataframe\">\n",
              "  <thead>\n",
              "    <tr style=\"text-align: right;\">\n",
              "      <th></th>\n",
              "      <th>count</th>\n",
              "      <th>mean</th>\n",
              "      <th>std</th>\n",
              "      <th>min</th>\n",
              "      <th>25%</th>\n",
              "      <th>50%</th>\n",
              "      <th>75%</th>\n",
              "      <th>max</th>\n",
              "    </tr>\n",
              "  </thead>\n",
              "  <tbody>\n",
              "    <tr>\n",
              "      <th>fare_amount</th>\n",
              "      <td>189061.0</td>\n",
              "      <td>11.336739</td>\n",
              "      <td>9.730745</td>\n",
              "      <td>2.500000</td>\n",
              "      <td>6.000000</td>\n",
              "      <td>8.500000</td>\n",
              "      <td>12.500000</td>\n",
              "      <td>499.000000</td>\n",
              "    </tr>\n",
              "    <tr>\n",
              "      <th>pickup_longitude</th>\n",
              "      <td>189061.0</td>\n",
              "      <td>-73.916225</td>\n",
              "      <td>2.560946</td>\n",
              "      <td>-75.419276</td>\n",
              "      <td>-73.992274</td>\n",
              "      <td>-73.982133</td>\n",
              "      <td>-73.968465</td>\n",
              "      <td>40.808425</td>\n",
              "    </tr>\n",
              "    <tr>\n",
              "      <th>pickup_latitude</th>\n",
              "      <td>189061.0</td>\n",
              "      <td>40.696089</td>\n",
              "      <td>2.634751</td>\n",
              "      <td>-74.015515</td>\n",
              "      <td>40.736440</td>\n",
              "      <td>40.753273</td>\n",
              "      <td>40.767532</td>\n",
              "      <td>401.066667</td>\n",
              "    </tr>\n",
              "    <tr>\n",
              "      <th>dropoff_longitude</th>\n",
              "      <td>189061.0</td>\n",
              "      <td>-73.915258</td>\n",
              "      <td>2.561027</td>\n",
              "      <td>-75.423067</td>\n",
              "      <td>-73.991594</td>\n",
              "      <td>-73.980564</td>\n",
              "      <td>-73.965513</td>\n",
              "      <td>40.831932</td>\n",
              "    </tr>\n",
              "    <tr>\n",
              "      <th>dropoff_latitude</th>\n",
              "      <td>189061.0</td>\n",
              "      <td>40.694481</td>\n",
              "      <td>2.501323</td>\n",
              "      <td>-74.015750</td>\n",
              "      <td>40.735345</td>\n",
              "      <td>40.753738</td>\n",
              "      <td>40.768327</td>\n",
              "      <td>45.031598</td>\n",
              "    </tr>\n",
              "    <tr>\n",
              "      <th>passenger_count</th>\n",
              "      <td>189061.0</td>\n",
              "      <td>1.595115</td>\n",
              "      <td>1.150926</td>\n",
              "      <td>1.000000</td>\n",
              "      <td>1.000000</td>\n",
              "      <td>1.000000</td>\n",
              "      <td>2.000000</td>\n",
              "      <td>5.000000</td>\n",
              "    </tr>\n",
              "    <tr>\n",
              "      <th>distance_travelled</th>\n",
              "      <td>189061.0</td>\n",
              "      <td>3.377859</td>\n",
              "      <td>3.984585</td>\n",
              "      <td>0.000084</td>\n",
              "      <td>1.279954</td>\n",
              "      <td>2.181325</td>\n",
              "      <td>3.938054</td>\n",
              "      <td>129.610094</td>\n",
              "    </tr>\n",
              "    <tr>\n",
              "      <th>month</th>\n",
              "      <td>189061.0</td>\n",
              "      <td>6.282337</td>\n",
              "      <td>3.439349</td>\n",
              "      <td>1.000000</td>\n",
              "      <td>3.000000</td>\n",
              "      <td>6.000000</td>\n",
              "      <td>9.000000</td>\n",
              "      <td>12.000000</td>\n",
              "    </tr>\n",
              "    <tr>\n",
              "      <th>year</th>\n",
              "      <td>189061.0</td>\n",
              "      <td>2011.719302</td>\n",
              "      <td>1.862527</td>\n",
              "      <td>2009.000000</td>\n",
              "      <td>2010.000000</td>\n",
              "      <td>2012.000000</td>\n",
              "      <td>2013.000000</td>\n",
              "      <td>2015.000000</td>\n",
              "    </tr>\n",
              "    <tr>\n",
              "      <th>day_of_the_week</th>\n",
              "      <td>189061.0</td>\n",
              "      <td>3.049095</td>\n",
              "      <td>1.946679</td>\n",
              "      <td>0.000000</td>\n",
              "      <td>1.000000</td>\n",
              "      <td>3.000000</td>\n",
              "      <td>5.000000</td>\n",
              "      <td>6.000000</td>\n",
              "    </tr>\n",
              "    <tr>\n",
              "      <th>pickup_hour</th>\n",
              "      <td>189061.0</td>\n",
              "      <td>13.489234</td>\n",
              "      <td>6.518660</td>\n",
              "      <td>0.000000</td>\n",
              "      <td>9.000000</td>\n",
              "      <td>14.000000</td>\n",
              "      <td>19.000000</td>\n",
              "      <td>23.000000</td>\n",
              "    </tr>\n",
              "  </tbody>\n",
              "</table>\n",
              "</div>\n",
              "      <button class=\"colab-df-convert\" onclick=\"convertToInteractive('df-28fe8202-87c1-4d6a-beec-ab1d7fab67ce')\"\n",
              "              title=\"Convert this dataframe to an interactive table.\"\n",
              "              style=\"display:none;\">\n",
              "        \n",
              "  <svg xmlns=\"http://www.w3.org/2000/svg\" height=\"24px\"viewBox=\"0 0 24 24\"\n",
              "       width=\"24px\">\n",
              "    <path d=\"M0 0h24v24H0V0z\" fill=\"none\"/>\n",
              "    <path d=\"M18.56 5.44l.94 2.06.94-2.06 2.06-.94-2.06-.94-.94-2.06-.94 2.06-2.06.94zm-11 1L8.5 8.5l.94-2.06 2.06-.94-2.06-.94L8.5 2.5l-.94 2.06-2.06.94zm10 10l.94 2.06.94-2.06 2.06-.94-2.06-.94-.94-2.06-.94 2.06-2.06.94z\"/><path d=\"M17.41 7.96l-1.37-1.37c-.4-.4-.92-.59-1.43-.59-.52 0-1.04.2-1.43.59L10.3 9.45l-7.72 7.72c-.78.78-.78 2.05 0 2.83L4 21.41c.39.39.9.59 1.41.59.51 0 1.02-.2 1.41-.59l7.78-7.78 2.81-2.81c.8-.78.8-2.07 0-2.86zM5.41 20L4 18.59l7.72-7.72 1.47 1.35L5.41 20z\"/>\n",
              "  </svg>\n",
              "      </button>\n",
              "      \n",
              "  <style>\n",
              "    .colab-df-container {\n",
              "      display:flex;\n",
              "      flex-wrap:wrap;\n",
              "      gap: 12px;\n",
              "    }\n",
              "\n",
              "    .colab-df-convert {\n",
              "      background-color: #E8F0FE;\n",
              "      border: none;\n",
              "      border-radius: 50%;\n",
              "      cursor: pointer;\n",
              "      display: none;\n",
              "      fill: #1967D2;\n",
              "      height: 32px;\n",
              "      padding: 0 0 0 0;\n",
              "      width: 32px;\n",
              "    }\n",
              "\n",
              "    .colab-df-convert:hover {\n",
              "      background-color: #E2EBFA;\n",
              "      box-shadow: 0px 1px 2px rgba(60, 64, 67, 0.3), 0px 1px 3px 1px rgba(60, 64, 67, 0.15);\n",
              "      fill: #174EA6;\n",
              "    }\n",
              "\n",
              "    [theme=dark] .colab-df-convert {\n",
              "      background-color: #3B4455;\n",
              "      fill: #D2E3FC;\n",
              "    }\n",
              "\n",
              "    [theme=dark] .colab-df-convert:hover {\n",
              "      background-color: #434B5C;\n",
              "      box-shadow: 0px 1px 3px 1px rgba(0, 0, 0, 0.15);\n",
              "      filter: drop-shadow(0px 1px 2px rgba(0, 0, 0, 0.3));\n",
              "      fill: #FFFFFF;\n",
              "    }\n",
              "  </style>\n",
              "\n",
              "      <script>\n",
              "        const buttonEl =\n",
              "          document.querySelector('#df-28fe8202-87c1-4d6a-beec-ab1d7fab67ce button.colab-df-convert');\n",
              "        buttonEl.style.display =\n",
              "          google.colab.kernel.accessAllowed ? 'block' : 'none';\n",
              "\n",
              "        async function convertToInteractive(key) {\n",
              "          const element = document.querySelector('#df-28fe8202-87c1-4d6a-beec-ab1d7fab67ce');\n",
              "          const dataTable =\n",
              "            await google.colab.kernel.invokeFunction('convertToInteractive',\n",
              "                                                     [key], {});\n",
              "          if (!dataTable) return;\n",
              "\n",
              "          const docLinkHtml = 'Like what you see? Visit the ' +\n",
              "            '<a target=\"_blank\" href=https://colab.research.google.com/notebooks/data_table.ipynb>data table notebook</a>'\n",
              "            + ' to learn more about interactive tables.';\n",
              "          element.innerHTML = '';\n",
              "          dataTable['output_type'] = 'display_data';\n",
              "          await google.colab.output.renderOutput(dataTable, element);\n",
              "          const docLink = document.createElement('div');\n",
              "          docLink.innerHTML = docLinkHtml;\n",
              "          element.appendChild(docLink);\n",
              "        }\n",
              "      </script>\n",
              "    </div>\n",
              "  </div>\n",
              "  "
            ]
          },
          "metadata": {},
          "execution_count": 199
        }
      ],
      "source": [
        "data.describe().T"
      ]
    },
    {
      "cell_type": "code",
      "execution_count": null,
      "metadata": {
        "id": "cj4EgRl5jZmv"
      },
      "outputs": [],
      "source": [
        "# Dropping the columns 'pickup datetime' and 'pickup hour' as we have extracted relvant pieces of information\n",
        "# from these columns and do not need these columns for our analysis now. Also, 'date' and 'day_name', month and year\n",
        "# as well as pickup and dropoff coordinates are not required as we have the required data extracted from them\n",
        "\n",
        "data = data.drop(['pickup_datetime','pickup_time', 'date', 'pickup_longitude', 'pickup_latitude',\n",
        "                  'dropoff_longitude', 'dropoff_latitude', 'day_name'],axis=1)"
      ]
    },
    {
      "cell_type": "code",
      "execution_count": null,
      "metadata": {
        "id": "VHeo_0CmOZ3X",
        "colab": {
          "base_uri": "https://localhost:8080/"
        },
        "outputId": "291e216b-dc17-4ac4-fb04-9ecfa69cfa6c"
      },
      "outputs": [
        {
          "output_type": "stream",
          "name": "stdout",
          "text": [
            "<class 'pandas.core.frame.DataFrame'>\n",
            "Int64Index: 189061 entries, 0 to 199999\n",
            "Data columns (total 7 columns):\n",
            " #   Column              Non-Null Count   Dtype  \n",
            "---  ------              --------------   -----  \n",
            " 0   fare_amount         189061 non-null  float64\n",
            " 1   passenger_count     189061 non-null  int64  \n",
            " 2   distance_travelled  189061 non-null  float64\n",
            " 3   month               189061 non-null  int64  \n",
            " 4   year                189061 non-null  int64  \n",
            " 5   day_of_the_week     189061 non-null  int64  \n",
            " 6   pickup_hour         189061 non-null  int64  \n",
            "dtypes: float64(2), int64(5)\n",
            "memory usage: 11.5 MB\n"
          ]
        }
      ],
      "source": [
        "data.info()"
      ]
    },
    {
      "cell_type": "code",
      "execution_count": null,
      "metadata": {
        "id": "5ztcJTOOOg6X",
        "colab": {
          "base_uri": "https://localhost:8080/",
          "height": 467
        },
        "outputId": "24b20ca2-0911-4530-bb2e-3aca5bdc3754"
      },
      "outputs": [
        {
          "output_type": "execute_result",
          "data": {
            "text/plain": [
              "<Axes: xlabel='distance_travelled'>"
            ]
          },
          "metadata": {},
          "execution_count": 202
        },
        {
          "output_type": "display_data",
          "data": {
            "text/plain": [
              "<Figure size 640x480 with 1 Axes>"
            ],
            "image/png": "[encoded data removed]"
          },
          "metadata": {}
        }
      ],
      "source": [
        "sns.boxplot(x=data['distance_travelled'])"
      ]
    },
    {
      "cell_type": "code",
      "execution_count": null,
      "metadata": {
        "id": "y9Yl2fZoOg8n",
        "colab": {
          "base_uri": "https://localhost:8080/",
          "height": 447
        },
        "outputId": "2345fcd7-c758-45ff-aff9-d70773187f1f"
      },
      "outputs": [
        {
          "output_type": "execute_result",
          "data": {
            "text/plain": [
              "<matplotlib.lines.Line2D at 0x7f766f9a9ca0>"
            ]
          },
          "metadata": {},
          "execution_count": 203
        },
        {
          "output_type": "display_data",
          "data": {
            "text/plain": [
              "<Figure size 640x480 with 1 Axes>"
            ],
            "image/png": "[encoded data removed]"
          },
          "metadata": {}
        }
      ],
      "source": [
        "import matplotlib.pyplot as plt\n",
        "hist = plt.hist(x=data['distance_travelled'], density = True)\n",
        "# Draw a vertical line in the histogram to visualize mean value of the numerical feature (NaNs will be ignored when calculating the mean)\n",
        "plt.axvline(data['distance_travelled'].mean(), color = 'red', linestyle='--')\n",
        "# Draw another vertical line in the histogram to visualize median value of the numerical feature (NaNs will be ignored when calculating the median)\n",
        "plt.axvline(data['distance_travelled'].median(), color = 'black', linestyle='-')"
      ]
    },
    {
      "cell_type": "markdown",
      "source": [
        "Inference:\n",
        "\n",
        "Positively Skewed\n",
        "\n",
        "Outliers on the left end\n",
        "\n",
        "Mean and Median are close"
      ],
      "metadata": {
        "id": "igXgH-sFE22m"
      }
    },
    {
      "cell_type": "code",
      "execution_count": null,
      "metadata": {
        "id": "5bOQwKNwOg_L",
        "colab": {
          "base_uri": "https://localhost:8080/",
          "height": 442
        },
        "outputId": "6e583346-0e82-4a92-9381-bf064443dc7b"
      },
      "outputs": [
        {
          "output_type": "execute_result",
          "data": {
            "text/plain": [
              "<Axes: >"
            ]
          },
          "metadata": {},
          "execution_count": 204
        },
        {
          "output_type": "display_data",
          "data": {
            "text/plain": [
              "<Figure size 640x480 with 1 Axes>"
            ],
            "image/png": "[encoded data removed]"
          },
          "metadata": {}
        }
      ],
      "source": [
        "data['passenger_count'].value_counts(normalize = True).plot.bar()"
      ]
    },
    {
      "cell_type": "markdown",
      "source": [
        "Inference:\n",
        "\n",
        "Most of trips had only 1 passanger"
      ],
      "metadata": {
        "id": "qIw-NogDFRyQ"
      }
    },
    {
      "cell_type": "code",
      "execution_count": null,
      "metadata": {
        "id": "58tPja6pOhBg",
        "colab": {
          "base_uri": "https://localhost:8080/",
          "height": 442
        },
        "outputId": "d2179bad-06f9-49e1-dfba-c0c5a5232295"
      },
      "outputs": [
        {
          "output_type": "execute_result",
          "data": {
            "text/plain": [
              "<Axes: >"
            ]
          },
          "metadata": {},
          "execution_count": 205
        },
        {
          "output_type": "display_data",
          "data": {
            "text/plain": [
              "<Figure size 640x480 with 1 Axes>"
            ],
            "image/png": "[encoded data removed]"
          },
          "metadata": {}
        }
      ],
      "source": [
        "data['day_of_the_week'].value_counts(normalize = True).plot.bar()"
      ]
    },
    {
      "cell_type": "markdown",
      "source": [
        "Inference :\n",
        "Friday (weekend eve) and Saturday had the highest number of trips"
      ],
      "metadata": {
        "id": "zehWfUSvFhkK"
      }
    },
    {
      "cell_type": "code",
      "execution_count": null,
      "metadata": {
        "id": "XlmZF9QDOhD2",
        "colab": {
          "base_uri": "https://localhost:8080/",
          "height": 451
        },
        "outputId": "aa163af5-9c9a-426b-8f4c-b72c6e85ebd0"
      },
      "outputs": [
        {
          "output_type": "execute_result",
          "data": {
            "text/plain": [
              "<Axes: >"
            ]
          },
          "metadata": {},
          "execution_count": 206
        },
        {
          "output_type": "display_data",
          "data": {
            "text/plain": [
              "<Figure size 640x480 with 1 Axes>"
            ],
            "image/png": "[encoded data removed]"
          },
          "metadata": {}
        }
      ],
      "source": [
        "data['pickup_hour'].value_counts(normalize = True).plot.bar()"
      ]
    },
    {
      "cell_type": "markdown",
      "source": [
        "Inference : The number of trips are low during 1am - 5am, and peak between 7pm - 9pm"
      ],
      "metadata": {
        "id": "LqrEHaUnFvtc"
      }
    },
    {
      "cell_type": "code",
      "source": [
        "plt.figure(figsize=(10,5))\n",
        "plt.title('Cab trips count during week days')\n",
        "sns.set_style(\"white\")\n",
        "#plot the countplot for weekdays\n",
        "sns.countplot(x='pickup_hour', data=data.loc[(data.day_of_the_week >= 0) & (data.day_of_the_week <=4)], palette='Set2')"
      ],
      "metadata": {
        "colab": {
          "base_uri": "https://localhost:8080/",
          "height": 504
        },
        "id": "YyLkavIKXfpm",
        "outputId": "06bc2be0-5cd5-46e3-cf07-8f7b8a4f9ab1"
      },
      "execution_count": null,
      "outputs": [
        {
          "output_type": "execute_result",
          "data": {
            "text/plain": [
              "<Axes: title={'center': 'Cab trips count during week days'}, xlabel='pickup_hour', ylabel='count'>"
            ]
          },
          "metadata": {},
          "execution_count": 207
        },
        {
          "output_type": "display_data",
          "data": {
            "text/plain": [
              "<Figure size 1000x500 with 1 Axes>"
            ],
            "image/png": "[encoded data removed]"
          },
          "metadata": {}
        }
      ]
    },
    {
      "cell_type": "code",
      "source": [
        "plt.figure(figsize=(10,5))\n",
        "plt.title('Cab trips count during weekends')\n",
        "sns.set_style(\"white\")\n",
        "#plot the countplot for weekends\n",
        "sns.countplot(x='pickup_hour', data=data.loc[(data.day_of_the_week >= 5) & (data.day_of_the_week <=6)], palette='Set2')"
      ],
      "metadata": {
        "colab": {
          "base_uri": "https://localhost:8080/",
          "height": 504
        },
        "id": "lw9lTub8Yv0S",
        "outputId": "ca4d4059-af86-404d-bbdf-0ceb863428a2"
      },
      "execution_count": null,
      "outputs": [
        {
          "output_type": "execute_result",
          "data": {
            "text/plain": [
              "<Axes: title={'center': 'Cab trips count during weekends'}, xlabel='pickup_hour', ylabel='count'>"
            ]
          },
          "metadata": {},
          "execution_count": 208
        },
        {
          "output_type": "display_data",
          "data": {
            "text/plain": [
              "<Figure size 1000x500 with 1 Axes>"
            ],
            "image/png": "[encoded data removed]"
          },
          "metadata": {}
        }
      ]
    },
    {
      "cell_type": "markdown",
      "source": [
        "From the above plot, we can notice that the pattern for demand of Cab is different for weekdays and weekends.\n"
      ],
      "metadata": {
        "id": "cqXJ7bXr7bPI"
      }
    },
    {
      "cell_type": "code",
      "execution_count": null,
      "metadata": {
        "id": "KpBcv-g8OhGK",
        "colab": {
          "base_uri": "https://localhost:8080/",
          "height": 430
        },
        "outputId": "ddbd78ba-5c3a-4df7-e8f2-0b29aa4b350c"
      },
      "outputs": [
        {
          "output_type": "display_data",
          "data": {
            "text/plain": [
              "<Figure size 640x480 with 1 Axes>"
            ],
            "image/png": "[encoded data removed]"
          },
          "metadata": {}
        }
      ],
      "source": [
        "plt.scatter(x = data.distance_travelled, y = data.fare_amount)\n",
        "plt.show()"
      ]
    },
    {
      "cell_type": "markdown",
      "source": [
        "Inference : as distance increases, the fare amount also increases\n",
        "but there are certain inconsistencies"
      ],
      "metadata": {
        "id": "jzUbTAwbEffM"
      }
    },
    {
      "cell_type": "code",
      "execution_count": null,
      "metadata": {
        "id": "ctAKXldBOhIt",
        "colab": {
          "base_uri": "https://localhost:8080/",
          "height": 430
        },
        "outputId": "9502580a-b20e-4ec6-c60f-83798bb2a001"
      },
      "outputs": [
        {
          "output_type": "display_data",
          "data": {
            "text/plain": [
              "<Figure size 640x480 with 1 Axes>"
            ],
            "image/png": "[encoded data removed]"
          },
          "metadata": {}
        }
      ],
      "source": [
        "#Scatter plot of day of the week vs fare amount\n",
        "plt.scatter(x = data.day_of_the_week, y = data.fare_amount)\n",
        "plt.show()"
      ]
    },
    {
      "cell_type": "code",
      "execution_count": null,
      "metadata": {
        "id": "dXaewx5XOhMF",
        "colab": {
          "base_uri": "https://localhost:8080/",
          "height": 430
        },
        "outputId": "e76c327c-7fc0-47ab-8ff7-febfe2e46556"
      },
      "outputs": [
        {
          "output_type": "display_data",
          "data": {
            "text/plain": [
              "<Figure size 640x480 with 1 Axes>"
            ],
            "image/png": "[encoded data removed]"
          },
          "metadata": {}
        }
      ],
      "source": [
        "#Scatter plot of day of the week vs distance to see if there is any relationship between them\n",
        "plt.scatter(x = data.day_of_the_week, y = data.distance_travelled)\n",
        "plt.show()"
      ]
    },
    {
      "cell_type": "markdown",
      "source": [
        "Inference : weekend fares are higher than weekday fares. This could be due to distance travelled or due to peak hours"
      ],
      "metadata": {
        "id": "_b3VrBhwGfUO"
      }
    },
    {
      "cell_type": "code",
      "execution_count": null,
      "metadata": {
        "colab": {
          "base_uri": "https://localhost:8080/",
          "height": 430
        },
        "id": "F24yDRmoPS_v",
        "outputId": "8c34ba5e-abe9-41fe-fea9-7dca28c6f0b7"
      },
      "outputs": [
        {
          "output_type": "display_data",
          "data": {
            "text/plain": [
              "<Figure size 640x480 with 1 Axes>"
            ],
            "image/png": "[encoded data removed]"
          },
          "metadata": {}
        }
      ],
      "source": [
        "#Scatter plot of pickup time vs fare amount\n",
        "plt.scatter(x = data.pickup_hour, y = data.fare_amount)\n",
        "plt.show()"
      ]
    },
    {
      "cell_type": "markdown",
      "source": [
        "Inference : some pickup times having a greater % of higher fares as compared to others - however, it is difficult to draw a concluding relationship"
      ],
      "metadata": {
        "id": "cMTkE4ibGwXD"
      }
    },
    {
      "cell_type": "code",
      "execution_count": null,
      "metadata": {
        "colab": {
          "base_uri": "https://localhost:8080/",
          "height": 430
        },
        "id": "g9MH64YMPTCE",
        "outputId": "728d338e-44bb-44d2-bc8b-f5ca4b1af899"
      },
      "outputs": [
        {
          "output_type": "display_data",
          "data": {
            "text/plain": [
              "<Figure size 640x480 with 1 Axes>"
            ],
            "image/png": "[encoded data removed]"
          },
          "metadata": {}
        }
      ],
      "source": [
        "plt.scatter(x = data.pickup_hour, y = data.distance_travelled)\n",
        "plt.show()"
      ]
    },
    {
      "cell_type": "markdown",
      "source": [
        "Inference : Some pickup hours have a greater concentration of trips where a high distance was travelled as compared to others"
      ],
      "metadata": {
        "id": "jeBNMbRDHBet"
      }
    },
    {
      "cell_type": "code",
      "execution_count": null,
      "metadata": {
        "id": "-adI47B6PTEu"
      },
      "outputs": [],
      "source": [
        "#Feature Scaling (Standardization)\n",
        "\n",
        "from sklearn.preprocessing import StandardScaler\n",
        "\n",
        "std = StandardScaler()"
      ]
    },
    {
      "cell_type": "markdown",
      "source": [
        "Standard scaler is less sensitive to outliers as compared to min max scaler. Our dataset has many outliers"
      ],
      "metadata": {
        "id": "z0rnDi6gO3dY"
      }
    },
    {
      "cell_type": "code",
      "execution_count": null,
      "metadata": {
        "id": "K0f49l67PTHH"
      },
      "outputs": [],
      "source": [
        "x = data.drop(['fare_amount'], axis = 1)\n",
        "y = data['fare_amount'].values.reshape(-1, 1)"
      ]
    },
    {
      "cell_type": "code",
      "execution_count": null,
      "metadata": {
        "id": "2cevsWfMPTKl"
      },
      "outputs": [],
      "source": [
        "y_std = std.fit_transform(y)\n",
        "\n",
        "x_std = std.fit_transform(x)"
      ]
    },
    {
      "cell_type": "code",
      "execution_count": null,
      "metadata": {
        "id": "LPh78ToZPnix"
      },
      "outputs": [],
      "source": [
        "x_train, x_test, y_train, y_test = train_test_split(x_std, y_std, test_size = 0.3, random_state = 0)"
      ]
    },
    {
      "cell_type": "code",
      "execution_count": null,
      "metadata": {
        "colab": {
          "base_uri": "https://localhost:8080/"
        },
        "id": "xN8Q9ktfPnlN",
        "outputId": "7eca131c-6a39-4504-d432-526f9229339f"
      },
      "outputs": [
        {
          "output_type": "stream",
          "name": "stdout",
          "text": [
            "Accuracy: 0.6376743\n"
          ]
        }
      ],
      "source": [
        "from sklearn.linear_model import LinearRegression\n",
        "\n",
        "LR = LinearRegression()\n",
        "LR.fit(x_train,y_train)\n",
        "\n",
        "LR_pred = LR.predict(x_test)\n",
        "\n",
        "print(\"Accuracy: {:.7f}\".format(LR.score(x_test, y_test)))"
      ]
    },
    {
      "cell_type": "code",
      "execution_count": null,
      "metadata": {
        "id": "jdkQFJqmrKR2"
      },
      "outputs": [],
      "source": [
        "from sklearn import metrics\n",
        "from sklearn.metrics import r2_score\n",
        "\n",
        "MAE_LR= metrics.mean_absolute_error(y_test, LR_pred)\n",
        "MSE_LR= metrics.mean_squared_error(y_test, LR_pred)\n",
        "RMSE_LR= np.sqrt(metrics.mean_squared_error(y_test, LR_pred))\n",
        "r2_LR=r2_score(y_test, LR_pred)\n",
        "Adj_r2_LR=1-(1-r2_score(y_test, LR_pred))*((len(x_test)-1)/(len(x_test)-len(x_test[0])-1))"
      ]
    },
    {
      "cell_type": "code",
      "execution_count": null,
      "metadata": {
        "colab": {
          "base_uri": "https://localhost:8080/"
        },
        "id": "SKBqMlHDrN40",
        "outputId": "7d1c662c-3cb7-4da6-fea3-81cc21483b2c"
      },
      "outputs": [
        {
          "output_type": "stream",
          "name": "stdout",
          "text": [
            "Mean absolute error of linear regression 0.26009588958844887\n",
            "Mean square  error of linear regression 0.3606759221003476\n",
            "Root Mean square error of linear regression 0.6005630042721143\n",
            "r2 score of linear regression 0.6376742734000511\n",
            "Adjusted r2 of linear regression 0.6376359401661746\n"
          ]
        }
      ],
      "source": [
        "print('Mean absolute error of linear regression',MAE_LR)\n",
        "print('Mean square  error of linear regression',MSE_LR)\n",
        "print('Root Mean square error of linear regression',RMSE_LR)\n",
        "print('r2 score of linear regression',r2_LR)\n",
        "print('Adjusted r2 of linear regression',Adj_r2_LR)"
      ]
    },
    {
      "cell_type": "code",
      "source": [
        "from sklearn.tree import DecisionTreeRegressor\n",
        "\n",
        "DT = DecisionTreeRegressor()\n",
        "DT.fit(x_train, y_train)"
      ],
      "metadata": {
        "colab": {
          "base_uri": "https://localhost:8080/",
          "height": 74
        },
        "id": "c73KwtcTzUl2",
        "outputId": "586f71f9-275b-4c17-a1f2-39dbfbf3eac0"
      },
      "execution_count": null,
      "outputs": [
        {
          "output_type": "execute_result",
          "data": {
            "text/plain": [
              "DecisionTreeRegressor()"
            ],
            "text/html": [
              "<style>#sk-container-id-4 {color: black;background-color: white;}#sk-container-id-4 pre{padding: 0;}#sk-container-id-4 div.sk-toggleable {background-color: white;}#sk-container-id-4 label.sk-toggleable__label {cursor: pointer;display: block;width: 100%;margin-bottom: 0;padding: 0.3em;box-sizing: border-box;text-align: center;}#sk-container-id-4 label.sk-toggleable__label-arrow:before {content: \"▸\";float: left;margin-right: 0.25em;color: #696969;}#sk-container-id-4 label.sk-toggleable__label-arrow:hover:before {color: black;}#sk-container-id-4 div.sk-estimator:hover label.sk-toggleable__label-arrow:before {color: black;}#sk-container-id-4 div.sk-toggleable__content {max-height: 0;max-width: 0;overflow: hidden;text-align: left;background-color: #f0f8ff;}#sk-container-id-4 div.sk-toggleable__content pre {margin: 0.2em;color: black;border-radius: 0.25em;background-color: #f0f8ff;}#sk-container-id-4 input.sk-toggleable__control:checked~div.sk-toggleable__content {max-height: 200px;max-width: 100%;overflow: auto;}#sk-container-id-4 input.sk-toggleable__control:checked~label.sk-toggleable__label-arrow:before {content: \"▾\";}#sk-container-id-4 div.sk-estimator input.sk-toggleable__control:checked~label.sk-toggleable__label {background-color: #d4ebff;}#sk-container-id-4 div.sk-label input.sk-toggleable__control:checked~label.sk-toggleable__label {background-color: #d4ebff;}#sk-container-id-4 input.sk-hidden--visually {border: 0;clip: rect(1px 1px 1px 1px);clip: rect(1px, 1px, 1px, 1px);height: 1px;margin: -1px;overflow: hidden;padding: 0;position: absolute;width: 1px;}#sk-container-id-4 div.sk-estimator {font-family: monospace;background-color: #f0f8ff;border: 1px dotted black;border-radius: 0.25em;box-sizing: border-box;margin-bottom: 0.5em;}#sk-container-id-4 div.sk-estimator:hover {background-color: #d4ebff;}#sk-container-id-4 div.sk-parallel-item::after {content: \"\";width: 100%;border-bottom: 1px solid gray;flex-grow: 1;}#sk-container-id-4 div.sk-label:hover label.sk-toggleable__label {background-color: #d4ebff;}#sk-container-id-4 div.sk-serial::before {content: \"\";position: absolute;border-left: 1px solid gray;box-sizing: border-box;top: 0;bottom: 0;left: 50%;z-index: 0;}#sk-container-id-4 div.sk-serial {display: flex;flex-direction: column;align-items: center;background-color: white;padding-right: 0.2em;padding-left: 0.2em;position: relative;}#sk-container-id-4 div.sk-item {position: relative;z-index: 1;}#sk-container-id-4 div.sk-parallel {display: flex;align-items: stretch;justify-content: center;background-color: white;position: relative;}#sk-container-id-4 div.sk-item::before, #sk-container-id-4 div.sk-parallel-item::before {content: \"\";position: absolute;border-left: 1px solid gray;box-sizing: border-box;top: 0;bottom: 0;left: 50%;z-index: -1;}#sk-container-id-4 div.sk-parallel-item {display: flex;flex-direction: column;z-index: 1;position: relative;background-color: white;}#sk-container-id-4 div.sk-parallel-item:first-child::after {align-self: flex-end;width: 50%;}#sk-container-id-4 div.sk-parallel-item:last-child::after {align-self: flex-start;width: 50%;}#sk-container-id-4 div.sk-parallel-item:only-child::after {width: 0;}#sk-container-id-4 div.sk-dashed-wrapped {border: 1px dashed gray;margin: 0 0.4em 0.5em 0.4em;box-sizing: border-box;padding-bottom: 0.4em;background-color: white;}#sk-container-id-4 div.sk-label label {font-family: monospace;font-weight: bold;display: inline-block;line-height: 1.2em;}#sk-container-id-4 div.sk-label-container {text-align: center;}#sk-container-id-4 div.sk-container {/* jupyter's `normalize.less` sets `[hidden] { display: none; }` but bootstrap.min.css set `[hidden] { display: none !important; }` so we also need the `!important` here to be able to override the default hidden behavior on the sphinx rendered scikit-learn.org. See: https://github.com/scikit-learn/scikit-learn/issues/21755 */display: inline-block !important;position: relative;}#sk-container-id-4 div.sk-text-repr-fallback {display: none;}</style><div id=\"sk-container-id-4\" class=\"sk-top-container\"><div class=\"sk-text-repr-fallback\"><pre>DecisionTreeRegressor()</pre><b>In a Jupyter environment, please rerun this cell to show the HTML representation or trust the notebook. <br />On GitHub, the HTML representation is unable to render, please try loading this page with nbviewer.org.</b></div><div class=\"sk-container\" hidden><div class=\"sk-item\"><div class=\"sk-estimator sk-toggleable\"><input class=\"sk-toggleable__control sk-hidden--visually\" id=\"sk-estimator-id-4\" type=\"checkbox\" checked><label for=\"sk-estimator-id-4\" class=\"sk-toggleable__label sk-toggleable__label-arrow\">DecisionTreeRegressor</label><div class=\"sk-toggleable__content\"><pre>DecisionTreeRegressor()</pre></div></div></div></div></div>"
            ]
          },
          "metadata": {},
          "execution_count": 221
        }
      ]
    },
    {
      "cell_type": "code",
      "source": [
        "DTpreds = DT.predict(x_test)\n",
        "print(\"Training set score: {:.2f}\".format(DT.score(x_train, y_train)))\n",
        "print(\"Test set score: {:.7f}\".format(DT.score(x_test, y_test)))"
      ],
      "metadata": {
        "colab": {
          "base_uri": "https://localhost:8080/"
        },
        "id": "loCT2w78zbA1",
        "outputId": "96c90854-01a1-4e68-caa8-5967c9664829"
      },
      "execution_count": null,
      "outputs": [
        {
          "output_type": "stream",
          "name": "stdout",
          "text": [
            "Training set score: 1.00\n",
            "Test set score: 0.5657173\n"
          ]
        }
      ]
    },
    {
      "cell_type": "code",
      "execution_count": null,
      "metadata": {
        "id": "-mAZ4uFOPnqT",
        "colab": {
          "base_uri": "https://localhost:8080/"
        },
        "outputId": "c290bb23-e5e4-423b-faee-a0e24ce899be"
      },
      "outputs": [
        {
          "output_type": "stream",
          "name": "stdout",
          "text": [
            "{'max_depth': 8, 'min_samples_leaf': 10}\n"
          ]
        }
      ],
      "source": [
        "from sklearn.model_selection import GridSearchCV\n",
        "param_grid = {'max_depth': [2, 3, 4, 5, 6, 8, 10, 12],\n",
        "              'min_samples_leaf': [2, 5, 10, 20]}\n",
        "\n",
        "dt = DecisionTreeRegressor()\n",
        "grid_dt = GridSearchCV(estimator=dt, param_grid=param_grid, cv=5)\n",
        "grid_dt.fit(x_train, y_train)\n",
        "print(grid_dt.best_params_)\n",
        "\n",
        "\n",
        "dt = DecisionTreeRegressor(**grid_dt.best_params_)\n",
        "dt.fit(x_train, y_train)\n",
        "DTpreds = dt.predict(x_test)"
      ]
    },
    {
      "cell_type": "code",
      "execution_count": null,
      "metadata": {
        "id": "0KHNUJDErUpH"
      },
      "outputs": [],
      "source": [
        "MAE_DT= metrics.mean_absolute_error(y_test, DTpreds)\n",
        "MSE_DT= metrics.mean_squared_error(y_test, DTpreds)\n",
        "RMSE_DT= np.sqrt(metrics.mean_squared_error(y_test, DTpreds))\n",
        "r2_DT=r2_score(y_test, DTpreds)\n",
        "Adj_r2_DT=1-(1-r2_score(y_test, DTpreds))*((len(x_test)-1)/(len(x_test)-len(x_test[0])-1))"
      ]
    },
    {
      "cell_type": "code",
      "execution_count": null,
      "metadata": {
        "id": "E5mSzH3rrVrn",
        "colab": {
          "base_uri": "https://localhost:8080/"
        },
        "outputId": "8b6d4c7b-88ad-4e18-d146-98b0f122cdec"
      },
      "outputs": [
        {
          "output_type": "stream",
          "name": "stdout",
          "text": [
            "Mean absolute error of decision tree 0.21856659922020077\n",
            "Mean square  error of decision tree 0.2070851905270563\n",
            "Root Mean square error of decision tree 0.4550661386293824\n",
            "r2 score of decision tree 0.7919675599944014\n",
            "Adjusted r2 of decision tree 0.7919455506376509\n"
          ]
        }
      ],
      "source": [
        "print('Mean absolute error of decision tree', MAE_DT)\n",
        "print('Mean square  error of decision tree', MSE_DT)\n",
        "print('Root Mean square error of decision tree', RMSE_DT)\n",
        "print('r2 score of decision tree', r2_DT)\n",
        "print('Adjusted r2 of decision tree', Adj_r2_DT)"
      ]
    },
    {
      "cell_type": "code",
      "execution_count": null,
      "metadata": {
        "id": "KbZcxa3MPntL",
        "colab": {
          "base_uri": "https://localhost:8080/"
        },
        "outputId": "18a07025-7c63-4bca-d89c-ad8f9f89f0db"
      },
      "outputs": [
        {
          "output_type": "stream",
          "name": "stderr",
          "text": [
            "<ipython-input-227-1b84e9f5d4fd>:4: DataConversionWarning: A column-vector y was passed when a 1d array was expected. Please change the shape of y to (n_samples,), for example using ravel().\n",
            "  RF.fit(x_train, y_train)\n"
          ]
        },
        {
          "output_type": "stream",
          "name": "stdout",
          "text": [
            "Accuracy: 0.7843596\n"
          ]
        }
      ],
      "source": [
        "from sklearn.ensemble import RandomForestRegressor\n",
        "\n",
        "RF = RandomForestRegressor()\n",
        "RF.fit(x_train, y_train)\n",
        "\n",
        "RFpreds = RF.predict(x_test)\n",
        "\n",
        "print(\"Accuracy: {:.7f}\".format(RF.score(x_test, y_test)))"
      ]
    },
    {
      "cell_type": "code",
      "execution_count": null,
      "metadata": {
        "id": "6LCpGS5mPnv8"
      },
      "outputs": [],
      "source": [
        "MAE_RF= metrics.mean_absolute_error(y_test, RFpreds)\n",
        "MSE_RF= metrics.mean_squared_error(y_test, RFpreds)\n",
        "RMSE_RF= np.sqrt(metrics.mean_squared_error(y_test, RFpreds))\n",
        "r2_RF=r2_score(y_test, RFpreds)\n",
        "Adj_r2_RF=1-(1-r2_score(y_test, RFpreds))*((len(x_test)-1)/(len(x_test)-len(x_test[0])-1))"
      ]
    },
    {
      "cell_type": "code",
      "execution_count": null,
      "metadata": {
        "id": "YVtC2Z9RPnx1",
        "colab": {
          "base_uri": "https://localhost:8080/"
        },
        "outputId": "6067d593-dbe2-422f-c173-6c9e6b3c78b9"
      },
      "outputs": [
        {
          "output_type": "stream",
          "name": "stdout",
          "text": [
            "Mean absolute error of random forest 0.22521716258609822\n",
            "Mean square  error of random forest 0.21465849392007916\n",
            "Root Mean square error of random forest 0.4633125229476095\n",
            "r2 score of random forest 0.7843596147823686\n",
            "Adjusted r2 of random forest 0.7843368005224006\n"
          ]
        }
      ],
      "source": [
        "print('Mean absolute error of random forest',MAE_RF)\n",
        "print('Mean square  error of random forest',MSE_RF)\n",
        "print('Root Mean square error of random forest',RMSE_RF)\n",
        "print('r2 score of random forest',r2_RF)\n",
        "print('Adjusted r2 of random forest',Adj_r2_RF)"
      ]
    },
    {
      "cell_type": "code",
      "execution_count": null,
      "metadata": {
        "id": "RfdRoHzxPn0D"
      },
      "outputs": [],
      "source": [
        "from sklearn.ensemble import GradientBoostingRegressor"
      ]
    },
    {
      "cell_type": "code",
      "execution_count": null,
      "metadata": {
        "id": "VEyOcVjdPn2k",
        "colab": {
          "base_uri": "https://localhost:8080/"
        },
        "outputId": "756b1383-5448-4fd9-eeff-f0fc85870cf1"
      },
      "outputs": [
        {
          "output_type": "stream",
          "name": "stderr",
          "text": [
            "/usr/local/lib/python3.9/dist-packages/sklearn/ensemble/_gb.py:437: DataConversionWarning: A column-vector y was passed when a 1d array was expected. Please change the shape of y to (n_samples, ), for example using ravel().\n",
            "  y = column_or_1d(y, warn=True)\n"
          ]
        }
      ],
      "source": [
        "gbr = GradientBoostingRegressor(random_state = 0)\n",
        "gbr.fit(x_train, y_train)\n",
        "predictions_gbr = gbr.predict(x_test)"
      ]
    },
    {
      "cell_type": "code",
      "execution_count": null,
      "metadata": {
        "id": "HqJuuQ_ePn44",
        "colab": {
          "base_uri": "https://localhost:8080/"
        },
        "outputId": "ad3eef96-1f5b-4b51-9af7-f3cf8291c45c"
      },
      "outputs": [
        {
          "output_type": "stream",
          "name": "stdout",
          "text": [
            "Accuracy: 0.7914934\n"
          ]
        }
      ],
      "source": [
        "print(\"Accuracy: {:.7f}\".format(gbr.score(x_test, y_test)))"
      ]
    },
    {
      "cell_type": "code",
      "execution_count": null,
      "metadata": {
        "id": "1BoklIPJPn7p"
      },
      "outputs": [],
      "source": [
        "MAE_GBR= metrics.mean_absolute_error(y_test, predictions_gbr)\n",
        "MSE_GBR= metrics.mean_squared_error(y_test, predictions_gbr)\n",
        "RMSE_GBR= np.sqrt(metrics.mean_squared_error(y_test, predictions_gbr))\n",
        "r2_GBR=r2_score(y_test, predictions_gbr)\n",
        "Adj_r2_GBR=1-(1-r2_score(y_test, predictions_gbr))*((len(x_test)-1)/(len(x_test)-len(x_test[0])-1))"
      ]
    },
    {
      "cell_type": "code",
      "execution_count": null,
      "metadata": {
        "id": "qqfCtIlAPn_L",
        "colab": {
          "base_uri": "https://localhost:8080/"
        },
        "outputId": "524e5793-7658-4cca-a882-68ace31a2e41"
      },
      "outputs": [
        {
          "output_type": "stream",
          "name": "stdout",
          "text": [
            "Mean absolute error of gradient boosting regressor 0.21214438568373514\n",
            "Mean square  error of gradient boosting regressor 0.20755714467134648\n",
            "Root Mean square error of gradient boosting regressor 0.45558439906492243\n",
            "r2 score of gradient boosting regressor 0.7914934470365527\n",
            "Adjusted r2 of gradient boosting regressor 0.7914713875197347\n"
          ]
        }
      ],
      "source": [
        "print('Mean absolute error of gradient boosting regressor', MAE_GBR)\n",
        "print('Mean square  error of gradient boosting regressor', MSE_GBR)\n",
        "print('Root Mean square error of gradient boosting regressor', RMSE_GBR)\n",
        "print('r2 score of gradient boosting regressor', r2_GBR)\n",
        "print('Adjusted r2 of gradient boosting regressor', Adj_r2_GBR)"
      ]
    },
    {
      "cell_type": "code",
      "execution_count": null,
      "metadata": {
        "id": "cYFzrNP2sZrO"
      },
      "outputs": [],
      "source": [
        "from xgboost import XGBRegressor"
      ]
    },
    {
      "cell_type": "code",
      "execution_count": null,
      "metadata": {
        "id": "eszh6XCMsbCa"
      },
      "outputs": [],
      "source": [
        "xgb = XGBRegressor(random_state = 0, scale_pos_weight = 1)\n",
        "xgb.fit(x_train, y_train)\n",
        "predictions_xgb = xgb.predict(x_test)"
      ]
    },
    {
      "cell_type": "code",
      "execution_count": null,
      "metadata": {
        "id": "Cq2H6jXnsimP",
        "colab": {
          "base_uri": "https://localhost:8080/"
        },
        "outputId": "fadf0212-1db6-4f7a-b233-54163d14205c"
      },
      "outputs": [
        {
          "output_type": "stream",
          "name": "stdout",
          "text": [
            "Accuracy: 0.7923300\n"
          ]
        }
      ],
      "source": [
        "print(\"Accuracy: {:.7f}\".format(xgb.score(x_test, y_test)))"
      ]
    },
    {
      "cell_type": "code",
      "execution_count": null,
      "metadata": {
        "id": "lpr2elKRsva2"
      },
      "outputs": [],
      "source": [
        "MAE_XGB= metrics.mean_absolute_error(y_test, predictions_xgb)\n",
        "MSE_XGB= metrics.mean_squared_error(y_test, predictions_xgb)\n",
        "RMSE_XGB= np.sqrt(metrics.mean_squared_error(y_test, predictions_xgb))\n",
        "r2_XGB=r2_score(y_test, predictions_xgb)\n",
        "Adj_r2_XGB=1-(1-r2_score(y_test, predictions_xgb))*((len(x_test)-1)/(len(x_test)-len(x_test[0])-1))"
      ]
    },
    {
      "cell_type": "code",
      "execution_count": null,
      "metadata": {
        "id": "oASq4UQCswkO",
        "colab": {
          "base_uri": "https://localhost:8080/"
        },
        "outputId": "08cef519-63cc-4b14-96d1-985bf8ebb924"
      },
      "outputs": [
        {
          "output_type": "stream",
          "name": "stdout",
          "text": [
            "Mean absolute error of XGB regressor 0.21027873805345706\n",
            "Mean square  error of XGB regressor 0.20672442369923436\n",
            "Root Mean square error of XGB regressor 0.45466957639502814\n",
            "r2 score of XGB regressor 0.792329977042544\n",
            "Adjusted r2 of XGB regressor 0.792308006028689\n"
          ]
        }
      ],
      "source": [
        "print('Mean absolute error of XGB regressor',MAE_XGB)\n",
        "print('Mean square  error of XGB regressor',MSE_XGB)\n",
        "print('Root Mean square error of XGB regressor',RMSE_XGB)\n",
        "print('r2 score of XGB regressor',r2_XGB)\n",
        "print('Adjusted r2 of XGB regressor',Adj_r2_XGB)"
      ]
    },
    {
      "cell_type": "code",
      "execution_count": null,
      "metadata": {
        "id": "xHgZbV1BtR5f"
      },
      "outputs": [],
      "source": [
        "cols = ['Model', 'MSE', 'RMSE', 'R2_score','MAE','ADJ_r']\n",
        "\n",
        "# create an empty dataframe of the columns\n",
        "result_table = pd.DataFrame(columns = cols)"
      ]
    },
    {
      "cell_type": "code",
      "execution_count": null,
      "metadata": {
        "id": "zatKnwdytYko"
      },
      "outputs": [],
      "source": [
        "full_metrics = pd.Series({'Model': \"Linear Regression\", 'MSE': MSE_LR, 'RMSE' : RMSE_LR, 'R2_score' : r2_LR,'MAE':MAE_LR,'ADJ_r':Adj_r2_LR})"
      ]
    },
    {
      "cell_type": "code",
      "execution_count": null,
      "metadata": {
        "id": "htiGPXb3tf9u",
        "colab": {
          "base_uri": "https://localhost:8080/"
        },
        "outputId": "694c2057-42b3-4999-a663-1c894aab768c"
      },
      "outputs": [
        {
          "output_type": "stream",
          "name": "stderr",
          "text": [
            "<ipython-input-242-d662c82ea80e>:1: FutureWarning: The frame.append method is deprecated and will be removed from pandas in a future version. Use pandas.concat instead.\n",
            "  result_table = result_table.append(full_metrics, ignore_index = True)\n"
          ]
        }
      ],
      "source": [
        "result_table = result_table.append(full_metrics, ignore_index = True)"
      ]
    },
    {
      "cell_type": "code",
      "execution_count": null,
      "metadata": {
        "id": "zV68ImKrtjRa"
      },
      "outputs": [],
      "source": [
        "full_metrics = pd.Series({'Model': \"Decision Tree\", 'MSE': MSE_DT, 'RMSE' : RMSE_DT, 'R2_score' : r2_DT,'MAE':MAE_DT,'ADJ_r':Adj_r2_DT})"
      ]
    },
    {
      "cell_type": "code",
      "execution_count": null,
      "metadata": {
        "id": "MUXnLSk6tlin",
        "colab": {
          "base_uri": "https://localhost:8080/"
        },
        "outputId": "cafe83bf-382a-4fb2-8108-697026569943"
      },
      "outputs": [
        {
          "output_type": "stream",
          "name": "stderr",
          "text": [
            "<ipython-input-244-d662c82ea80e>:1: FutureWarning: The frame.append method is deprecated and will be removed from pandas in a future version. Use pandas.concat instead.\n",
            "  result_table = result_table.append(full_metrics, ignore_index = True)\n"
          ]
        }
      ],
      "source": [
        "result_table = result_table.append(full_metrics, ignore_index = True)"
      ]
    },
    {
      "cell_type": "code",
      "execution_count": null,
      "metadata": {
        "id": "v1tDjfuktrIo"
      },
      "outputs": [],
      "source": [
        "full_metrics = pd.Series({'Model': \"Random Forest\", 'MSE': MSE_RF, 'RMSE' : RMSE_RF, 'R2_score' : r2_RF,'MAE':MAE_RF,'ADJ_r':Adj_r2_RF})"
      ]
    },
    {
      "cell_type": "code",
      "execution_count": null,
      "metadata": {
        "id": "yhmq_jqptwSg",
        "colab": {
          "base_uri": "https://localhost:8080/"
        },
        "outputId": "aea1d684-9a26-4281-b3ee-2f73ef214a13"
      },
      "outputs": [
        {
          "output_type": "stream",
          "name": "stderr",
          "text": [
            "<ipython-input-246-d662c82ea80e>:1: FutureWarning: The frame.append method is deprecated and will be removed from pandas in a future version. Use pandas.concat instead.\n",
            "  result_table = result_table.append(full_metrics, ignore_index = True)\n"
          ]
        }
      ],
      "source": [
        "result_table = result_table.append(full_metrics, ignore_index = True)"
      ]
    },
    {
      "cell_type": "code",
      "execution_count": null,
      "metadata": {
        "id": "BI3lXOn8tz22"
      },
      "outputs": [],
      "source": [
        "full_metrics = pd.Series({'Model': \"Gradient Boosting\", 'MSE': MSE_GBR, 'RMSE' : RMSE_GBR, 'R2_score' : r2_GBR,'MAE':MAE_GBR,'ADJ_r':Adj_r2_GBR})"
      ]
    },
    {
      "cell_type": "code",
      "execution_count": null,
      "metadata": {
        "id": "J2R-KDnGt1r4",
        "colab": {
          "base_uri": "https://localhost:8080/"
        },
        "outputId": "22417121-de1a-45a6-f58a-739bb6c84b0e"
      },
      "outputs": [
        {
          "output_type": "stream",
          "name": "stderr",
          "text": [
            "<ipython-input-248-d662c82ea80e>:1: FutureWarning: The frame.append method is deprecated and will be removed from pandas in a future version. Use pandas.concat instead.\n",
            "  result_table = result_table.append(full_metrics, ignore_index = True)\n"
          ]
        }
      ],
      "source": [
        "result_table = result_table.append(full_metrics, ignore_index = True)"
      ]
    },
    {
      "cell_type": "code",
      "execution_count": null,
      "metadata": {
        "id": "Fu-Jh3ict-5b"
      },
      "outputs": [],
      "source": [
        "full_metrics = pd.Series({'Model': \"XGBoost\", 'MSE': MSE_XGB, 'RMSE' : RMSE_XGB, 'R2_score' : r2_XGB,'MAE':MAE_XGB,'ADJ_r':Adj_r2_XGB})"
      ]
    },
    {
      "cell_type": "code",
      "execution_count": null,
      "metadata": {
        "id": "lQn_G2sfuAni",
        "colab": {
          "base_uri": "https://localhost:8080/"
        },
        "outputId": "15a6efd6-b2ff-442d-f724-6d93b7b11894"
      },
      "outputs": [
        {
          "output_type": "stream",
          "name": "stderr",
          "text": [
            "<ipython-input-250-d662c82ea80e>:1: FutureWarning: The frame.append method is deprecated and will be removed from pandas in a future version. Use pandas.concat instead.\n",
            "  result_table = result_table.append(full_metrics, ignore_index = True)\n"
          ]
        }
      ],
      "source": [
        "result_table = result_table.append(full_metrics, ignore_index = True)"
      ]
    },
    {
      "cell_type": "code",
      "execution_count": null,
      "metadata": {
        "id": "ECnHXDjZvCVo",
        "colab": {
          "base_uri": "https://localhost:8080/",
          "height": 206
        },
        "outputId": "68fcbd4b-bc18-4834-d926-6352325b8428"
      },
      "outputs": [
        {
          "output_type": "execute_result",
          "data": {
            "text/plain": [
              "               Model       MSE      RMSE  R2_score       MAE     ADJ_r\n",
              "0  Linear Regression  0.360676  0.600563  0.637674  0.260096  0.637636\n",
              "1      Decision Tree  0.207085  0.455066  0.791968  0.218567  0.791946\n",
              "2      Random Forest  0.214658  0.463313  0.784360  0.225217  0.784337\n",
              "3  Gradient Boosting  0.207557  0.455584  0.791493  0.212144  0.791471\n",
              "4            XGBoost  0.206724  0.454670  0.792330  0.210279  0.792308"
            ],
            "text/html": [
              "\n",
              "  <div id=\"df-8011277c-2434-4db8-9234-01c9fc6b5f3b\">\n",
              "    <div class=\"colab-df-container\">\n",
              "      <div>\n",
              "<style scoped>\n",
              "    .dataframe tbody tr th:only-of-type {\n",
              "        vertical-align: middle;\n",
              "    }\n",
              "\n",
              "    .dataframe tbody tr th {\n",
              "        vertical-align: top;\n",
              "    }\n",
              "\n",
              "    .dataframe thead th {\n",
              "        text-align: right;\n",
              "    }\n",
              "</style>\n",
              "<table border=\"1\" class=\"dataframe\">\n",
              "  <thead>\n",
              "    <tr style=\"text-align: right;\">\n",
              "      <th></th>\n",
              "      <th>Model</th>\n",
              "      <th>MSE</th>\n",
              "      <th>RMSE</th>\n",
              "      <th>R2_score</th>\n",
              "      <th>MAE</th>\n",
              "      <th>ADJ_r</th>\n",
              "    </tr>\n",
              "  </thead>\n",
              "  <tbody>\n",
              "    <tr>\n",
              "      <th>0</th>\n",
              "      <td>Linear Regression</td>\n",
              "      <td>0.360676</td>\n",
              "      <td>0.600563</td>\n",
              "      <td>0.637674</td>\n",
              "      <td>0.260096</td>\n",
              "      <td>0.637636</td>\n",
              "    </tr>\n",
              "    <tr>\n",
              "      <th>1</th>\n",
              "      <td>Decision Tree</td>\n",
              "      <td>0.207085</td>\n",
              "      <td>0.455066</td>\n",
              "      <td>0.791968</td>\n",
              "      <td>0.218567</td>\n",
              "      <td>0.791946</td>\n",
              "    </tr>\n",
              "    <tr>\n",
              "      <th>2</th>\n",
              "      <td>Random Forest</td>\n",
              "      <td>0.214658</td>\n",
              "      <td>0.463313</td>\n",
              "      <td>0.784360</td>\n",
              "      <td>0.225217</td>\n",
              "      <td>0.784337</td>\n",
              "    </tr>\n",
              "    <tr>\n",
              "      <th>3</th>\n",
              "      <td>Gradient Boosting</td>\n",
              "      <td>0.207557</td>\n",
              "      <td>0.455584</td>\n",
              "      <td>0.791493</td>\n",
              "      <td>0.212144</td>\n",
              "      <td>0.791471</td>\n",
              "    </tr>\n",
              "    <tr>\n",
              "      <th>4</th>\n",
              "      <td>XGBoost</td>\n",
              "      <td>0.206724</td>\n",
              "      <td>0.454670</td>\n",
              "      <td>0.792330</td>\n",
              "      <td>0.210279</td>\n",
              "      <td>0.792308</td>\n",
              "    </tr>\n",
              "  </tbody>\n",
              "</table>\n",
              "</div>\n",
              "      <button class=\"colab-df-convert\" onclick=\"convertToInteractive('df-8011277c-2434-4db8-9234-01c9fc6b5f3b')\"\n",
              "              title=\"Convert this dataframe to an interactive table.\"\n",
              "              style=\"display:none;\">\n",
              "        \n",
              "  <svg xmlns=\"http://www.w3.org/2000/svg\" height=\"24px\"viewBox=\"0 0 24 24\"\n",
              "       width=\"24px\">\n",
              "    <path d=\"M0 0h24v24H0V0z\" fill=\"none\"/>\n",
              "    <path d=\"M18.56 5.44l.94 2.06.94-2.06 2.06-.94-2.06-.94-.94-2.06-.94 2.06-2.06.94zm-11 1L8.5 8.5l.94-2.06 2.06-.94-2.06-.94L8.5 2.5l-.94 2.06-2.06.94zm10 10l.94 2.06.94-2.06 2.06-.94-2.06-.94-.94-2.06-.94 2.06-2.06.94z\"/><path d=\"M17.41 7.96l-1.37-1.37c-.4-.4-.92-.59-1.43-.59-.52 0-1.04.2-1.43.59L10.3 9.45l-7.72 7.72c-.78.78-.78 2.05 0 2.83L4 21.41c.39.39.9.59 1.41.59.51 0 1.02-.2 1.41-.59l7.78-7.78 2.81-2.81c.8-.78.8-2.07 0-2.86zM5.41 20L4 18.59l7.72-7.72 1.47 1.35L5.41 20z\"/>\n",
              "  </svg>\n",
              "      </button>\n",
              "      \n",
              "  <style>\n",
              "    .colab-df-container {\n",
              "      display:flex;\n",
              "      flex-wrap:wrap;\n",
              "      gap: 12px;\n",
              "    }\n",
              "\n",
              "    .colab-df-convert {\n",
              "      background-color: #E8F0FE;\n",
              "      border: none;\n",
              "      border-radius: 50%;\n",
              "      cursor: pointer;\n",
              "      display: none;\n",
              "      fill: #1967D2;\n",
              "      height: 32px;\n",
              "      padding: 0 0 0 0;\n",
              "      width: 32px;\n",
              "    }\n",
              "\n",
              "    .colab-df-convert:hover {\n",
              "      background-color: #E2EBFA;\n",
              "      box-shadow: 0px 1px 2px rgba(60, 64, 67, 0.3), 0px 1px 3px 1px rgba(60, 64, 67, 0.15);\n",
              "      fill: #174EA6;\n",
              "    }\n",
              "\n",
              "    [theme=dark] .colab-df-convert {\n",
              "      background-color: #3B4455;\n",
              "      fill: #D2E3FC;\n",
              "    }\n",
              "\n",
              "    [theme=dark] .colab-df-convert:hover {\n",
              "      background-color: #434B5C;\n",
              "      box-shadow: 0px 1px 3px 1px rgba(0, 0, 0, 0.15);\n",
              "      filter: drop-shadow(0px 1px 2px rgba(0, 0, 0, 0.3));\n",
              "      fill: #FFFFFF;\n",
              "    }\n",
              "  </style>\n",
              "\n",
              "      <script>\n",
              "        const buttonEl =\n",
              "          document.querySelector('#df-8011277c-2434-4db8-9234-01c9fc6b5f3b button.colab-df-convert');\n",
              "        buttonEl.style.display =\n",
              "          google.colab.kernel.accessAllowed ? 'block' : 'none';\n",
              "\n",
              "        async function convertToInteractive(key) {\n",
              "          const element = document.querySelector('#df-8011277c-2434-4db8-9234-01c9fc6b5f3b');\n",
              "          const dataTable =\n",
              "            await google.colab.kernel.invokeFunction('convertToInteractive',\n",
              "                                                     [key], {});\n",
              "          if (!dataTable) return;\n",
              "\n",
              "          const docLinkHtml = 'Like what you see? Visit the ' +\n",
              "            '<a target=\"_blank\" href=https://colab.research.google.com/notebooks/data_table.ipynb>data table notebook</a>'\n",
              "            + ' to learn more about interactive tables.';\n",
              "          element.innerHTML = '';\n",
              "          dataTable['output_type'] = 'display_data';\n",
              "          await google.colab.output.renderOutput(dataTable, element);\n",
              "          const docLink = document.createElement('div');\n",
              "          docLink.innerHTML = docLinkHtml;\n",
              "          element.appendChild(docLink);\n",
              "        }\n",
              "      </script>\n",
              "    </div>\n",
              "  </div>\n",
              "  "
            ]
          },
          "metadata": {},
          "execution_count": 251
        }
      ],
      "source": [
        "result_table"
      ]
    }
  ],
  "metadata": {
    "colab": {
      "provenance": []
    },
    "kernelspec": {
      "display_name": "Python 3",
      "name": "python3"
    },
    "language_info": {
      "name": "python"
    }
  },
  "nbformat": 4,
  "nbformat_minor": 0
}